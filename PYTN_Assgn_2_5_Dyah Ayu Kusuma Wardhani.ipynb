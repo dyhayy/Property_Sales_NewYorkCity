{
 "cells": [
  {
   "cell_type": "markdown",
   "metadata": {},
   "source": [
    "Nama            : Dyah Ayu Kusuma Wardhani\n",
    "\n",
    "Kelas           : PYTN KS 019\n",
    "\n",
    "Kode Peserta    : PYTN-KS19-02"
   ]
  },
  {
   "cell_type": "markdown",
   "metadata": {},
   "source": [
    "# **ASSIGMENT 2**\n",
    "\n",
    "Pada assigment 2, tugasnya adalah lakukan metode statistik kepada dataset, seperti Central Tendencies, Interval, Hypotesis Testing dan semua metode statistik yang telah dipelajari\n",
    "\n",
    "Sumber Data : https://www.kaggle.com/datasets/new-york-city/nyc-property-sales"
   ]
  },
  {
   "cell_type": "markdown",
   "metadata": {},
   "source": [
    "# **A. IMPORT LIBRARY**\n",
    "----------------------------------------------"
   ]
  },
  {
   "cell_type": "code",
   "execution_count": 1,
   "metadata": {},
   "outputs": [],
   "source": [
    "import math\n",
    "import statistics\n",
    "import scipy.stats\n",
    "import numpy as np\n",
    "import pandas as pd\n",
    "import matplotlib as mpl\n",
    "from matplotlib import pyplot as plt\n",
    "import seaborn as sns\n",
    "from IPython.display import Math, Latex     #untuk menulis markdown persamaan matematika\n",
    "%matplotlib inline\n",
    "import seaborn"
   ]
  },
  {
   "cell_type": "markdown",
   "metadata": {},
   "source": [
    "# **B. DATA COLLECTION**\n",
    "-------------------------------------"
   ]
  },
  {
   "cell_type": "code",
   "execution_count": 2,
   "metadata": {},
   "outputs": [
    {
     "data": {
      "text/html": [
       "<div>\n",
       "<style scoped>\n",
       "    .dataframe tbody tr th:only-of-type {\n",
       "        vertical-align: middle;\n",
       "    }\n",
       "\n",
       "    .dataframe tbody tr th {\n",
       "        vertical-align: top;\n",
       "    }\n",
       "\n",
       "    .dataframe thead th {\n",
       "        text-align: right;\n",
       "    }\n",
       "</style>\n",
       "<table border=\"1\" class=\"dataframe\">\n",
       "  <thead>\n",
       "    <tr style=\"text-align: right;\">\n",
       "      <th></th>\n",
       "      <th>Unnamed: 0</th>\n",
       "      <th>BOROUGH</th>\n",
       "      <th>NEIGHBORHOOD</th>\n",
       "      <th>BUILDING CLASS CATEGORY</th>\n",
       "      <th>TAX CLASS AT PRESENT</th>\n",
       "      <th>BLOCK</th>\n",
       "      <th>LOT</th>\n",
       "      <th>EASE-MENT</th>\n",
       "      <th>BUILDING CLASS AT PRESENT</th>\n",
       "      <th>ADDRESS</th>\n",
       "      <th>APARTMENT NUMBER</th>\n",
       "      <th>ZIP CODE</th>\n",
       "      <th>RESIDENTIAL UNITS</th>\n",
       "      <th>COMMERCIAL UNITS</th>\n",
       "      <th>TOTAL UNITS</th>\n",
       "      <th>LAND SQUARE FEET</th>\n",
       "      <th>GROSS SQUARE FEET</th>\n",
       "      <th>YEAR BUILT</th>\n",
       "      <th>TAX CLASS AT TIME OF SALE</th>\n",
       "      <th>BUILDING CLASS AT TIME OF SALE</th>\n",
       "      <th>SALE PRICE</th>\n",
       "      <th>SALE DATE</th>\n",
       "    </tr>\n",
       "  </thead>\n",
       "  <tbody>\n",
       "    <tr>\n",
       "      <th>0</th>\n",
       "      <td>4</td>\n",
       "      <td>1</td>\n",
       "      <td>ALPHABET CITY</td>\n",
       "      <td>07 RENTALS - WALKUP APARTMENTS</td>\n",
       "      <td>2A</td>\n",
       "      <td>392</td>\n",
       "      <td>6</td>\n",
       "      <td></td>\n",
       "      <td>C2</td>\n",
       "      <td>153 AVENUE B</td>\n",
       "      <td></td>\n",
       "      <td>10009</td>\n",
       "      <td>5</td>\n",
       "      <td>0</td>\n",
       "      <td>5</td>\n",
       "      <td>1633</td>\n",
       "      <td>6440</td>\n",
       "      <td>1900</td>\n",
       "      <td>2</td>\n",
       "      <td>C2</td>\n",
       "      <td>6625000</td>\n",
       "      <td>2017-07-19 00:00:00</td>\n",
       "    </tr>\n",
       "    <tr>\n",
       "      <th>1</th>\n",
       "      <td>5</td>\n",
       "      <td>1</td>\n",
       "      <td>ALPHABET CITY</td>\n",
       "      <td>07 RENTALS - WALKUP APARTMENTS</td>\n",
       "      <td>2</td>\n",
       "      <td>399</td>\n",
       "      <td>26</td>\n",
       "      <td></td>\n",
       "      <td>C7</td>\n",
       "      <td>234 EAST 4TH   STREET</td>\n",
       "      <td></td>\n",
       "      <td>10009</td>\n",
       "      <td>28</td>\n",
       "      <td>3</td>\n",
       "      <td>31</td>\n",
       "      <td>4616</td>\n",
       "      <td>18690</td>\n",
       "      <td>1900</td>\n",
       "      <td>2</td>\n",
       "      <td>C7</td>\n",
       "      <td>-</td>\n",
       "      <td>2016-12-14 00:00:00</td>\n",
       "    </tr>\n",
       "    <tr>\n",
       "      <th>2</th>\n",
       "      <td>6</td>\n",
       "      <td>1</td>\n",
       "      <td>ALPHABET CITY</td>\n",
       "      <td>07 RENTALS - WALKUP APARTMENTS</td>\n",
       "      <td>2</td>\n",
       "      <td>399</td>\n",
       "      <td>39</td>\n",
       "      <td></td>\n",
       "      <td>C7</td>\n",
       "      <td>197 EAST 3RD   STREET</td>\n",
       "      <td></td>\n",
       "      <td>10009</td>\n",
       "      <td>16</td>\n",
       "      <td>1</td>\n",
       "      <td>17</td>\n",
       "      <td>2212</td>\n",
       "      <td>7803</td>\n",
       "      <td>1900</td>\n",
       "      <td>2</td>\n",
       "      <td>C7</td>\n",
       "      <td>-</td>\n",
       "      <td>2016-12-09 00:00:00</td>\n",
       "    </tr>\n",
       "    <tr>\n",
       "      <th>3</th>\n",
       "      <td>7</td>\n",
       "      <td>1</td>\n",
       "      <td>ALPHABET CITY</td>\n",
       "      <td>07 RENTALS - WALKUP APARTMENTS</td>\n",
       "      <td>2B</td>\n",
       "      <td>402</td>\n",
       "      <td>21</td>\n",
       "      <td></td>\n",
       "      <td>C4</td>\n",
       "      <td>154 EAST 7TH STREET</td>\n",
       "      <td></td>\n",
       "      <td>10009</td>\n",
       "      <td>10</td>\n",
       "      <td>0</td>\n",
       "      <td>10</td>\n",
       "      <td>2272</td>\n",
       "      <td>6794</td>\n",
       "      <td>1913</td>\n",
       "      <td>2</td>\n",
       "      <td>C4</td>\n",
       "      <td>3936272</td>\n",
       "      <td>2016-09-23 00:00:00</td>\n",
       "    </tr>\n",
       "    <tr>\n",
       "      <th>4</th>\n",
       "      <td>8</td>\n",
       "      <td>1</td>\n",
       "      <td>ALPHABET CITY</td>\n",
       "      <td>07 RENTALS - WALKUP APARTMENTS</td>\n",
       "      <td>2A</td>\n",
       "      <td>404</td>\n",
       "      <td>55</td>\n",
       "      <td></td>\n",
       "      <td>C2</td>\n",
       "      <td>301 EAST 10TH   STREET</td>\n",
       "      <td></td>\n",
       "      <td>10009</td>\n",
       "      <td>6</td>\n",
       "      <td>0</td>\n",
       "      <td>6</td>\n",
       "      <td>2369</td>\n",
       "      <td>4615</td>\n",
       "      <td>1900</td>\n",
       "      <td>2</td>\n",
       "      <td>C2</td>\n",
       "      <td>8000000</td>\n",
       "      <td>2016-11-17 00:00:00</td>\n",
       "    </tr>\n",
       "    <tr>\n",
       "      <th>...</th>\n",
       "      <td>...</td>\n",
       "      <td>...</td>\n",
       "      <td>...</td>\n",
       "      <td>...</td>\n",
       "      <td>...</td>\n",
       "      <td>...</td>\n",
       "      <td>...</td>\n",
       "      <td>...</td>\n",
       "      <td>...</td>\n",
       "      <td>...</td>\n",
       "      <td>...</td>\n",
       "      <td>...</td>\n",
       "      <td>...</td>\n",
       "      <td>...</td>\n",
       "      <td>...</td>\n",
       "      <td>...</td>\n",
       "      <td>...</td>\n",
       "      <td>...</td>\n",
       "      <td>...</td>\n",
       "      <td>...</td>\n",
       "      <td>...</td>\n",
       "      <td>...</td>\n",
       "    </tr>\n",
       "    <tr>\n",
       "      <th>84543</th>\n",
       "      <td>8409</td>\n",
       "      <td>5</td>\n",
       "      <td>WOODROW</td>\n",
       "      <td>02 TWO FAMILY DWELLINGS</td>\n",
       "      <td>1</td>\n",
       "      <td>7349</td>\n",
       "      <td>34</td>\n",
       "      <td></td>\n",
       "      <td>B9</td>\n",
       "      <td>37 QUAIL LANE</td>\n",
       "      <td></td>\n",
       "      <td>10309</td>\n",
       "      <td>2</td>\n",
       "      <td>0</td>\n",
       "      <td>2</td>\n",
       "      <td>2400</td>\n",
       "      <td>2575</td>\n",
       "      <td>1998</td>\n",
       "      <td>1</td>\n",
       "      <td>B9</td>\n",
       "      <td>450000</td>\n",
       "      <td>2016-11-28 00:00:00</td>\n",
       "    </tr>\n",
       "    <tr>\n",
       "      <th>84544</th>\n",
       "      <td>8410</td>\n",
       "      <td>5</td>\n",
       "      <td>WOODROW</td>\n",
       "      <td>02 TWO FAMILY DWELLINGS</td>\n",
       "      <td>1</td>\n",
       "      <td>7349</td>\n",
       "      <td>78</td>\n",
       "      <td></td>\n",
       "      <td>B9</td>\n",
       "      <td>32 PHEASANT LANE</td>\n",
       "      <td></td>\n",
       "      <td>10309</td>\n",
       "      <td>2</td>\n",
       "      <td>0</td>\n",
       "      <td>2</td>\n",
       "      <td>2498</td>\n",
       "      <td>2377</td>\n",
       "      <td>1998</td>\n",
       "      <td>1</td>\n",
       "      <td>B9</td>\n",
       "      <td>550000</td>\n",
       "      <td>2017-04-21 00:00:00</td>\n",
       "    </tr>\n",
       "    <tr>\n",
       "      <th>84545</th>\n",
       "      <td>8411</td>\n",
       "      <td>5</td>\n",
       "      <td>WOODROW</td>\n",
       "      <td>02 TWO FAMILY DWELLINGS</td>\n",
       "      <td>1</td>\n",
       "      <td>7351</td>\n",
       "      <td>60</td>\n",
       "      <td></td>\n",
       "      <td>B2</td>\n",
       "      <td>49 PITNEY AVENUE</td>\n",
       "      <td></td>\n",
       "      <td>10309</td>\n",
       "      <td>2</td>\n",
       "      <td>0</td>\n",
       "      <td>2</td>\n",
       "      <td>4000</td>\n",
       "      <td>1496</td>\n",
       "      <td>1925</td>\n",
       "      <td>1</td>\n",
       "      <td>B2</td>\n",
       "      <td>460000</td>\n",
       "      <td>2017-07-05 00:00:00</td>\n",
       "    </tr>\n",
       "    <tr>\n",
       "      <th>84546</th>\n",
       "      <td>8412</td>\n",
       "      <td>5</td>\n",
       "      <td>WOODROW</td>\n",
       "      <td>22 STORE BUILDINGS</td>\n",
       "      <td>4</td>\n",
       "      <td>7100</td>\n",
       "      <td>28</td>\n",
       "      <td></td>\n",
       "      <td>K6</td>\n",
       "      <td>2730 ARTHUR KILL ROAD</td>\n",
       "      <td></td>\n",
       "      <td>10309</td>\n",
       "      <td>0</td>\n",
       "      <td>7</td>\n",
       "      <td>7</td>\n",
       "      <td>208033</td>\n",
       "      <td>64117</td>\n",
       "      <td>2001</td>\n",
       "      <td>4</td>\n",
       "      <td>K6</td>\n",
       "      <td>11693337</td>\n",
       "      <td>2016-12-21 00:00:00</td>\n",
       "    </tr>\n",
       "    <tr>\n",
       "      <th>84547</th>\n",
       "      <td>8413</td>\n",
       "      <td>5</td>\n",
       "      <td>WOODROW</td>\n",
       "      <td>35 INDOOR PUBLIC AND CULTURAL FACILITIES</td>\n",
       "      <td>4</td>\n",
       "      <td>7105</td>\n",
       "      <td>679</td>\n",
       "      <td></td>\n",
       "      <td>P9</td>\n",
       "      <td>155 CLAY PIT ROAD</td>\n",
       "      <td></td>\n",
       "      <td>10309</td>\n",
       "      <td>0</td>\n",
       "      <td>1</td>\n",
       "      <td>1</td>\n",
       "      <td>10796</td>\n",
       "      <td>2400</td>\n",
       "      <td>2006</td>\n",
       "      <td>4</td>\n",
       "      <td>P9</td>\n",
       "      <td>69300</td>\n",
       "      <td>2016-10-27 00:00:00</td>\n",
       "    </tr>\n",
       "  </tbody>\n",
       "</table>\n",
       "<p>84548 rows × 22 columns</p>\n",
       "</div>"
      ],
      "text/plain": [
       "       Unnamed: 0  BOROUGH   NEIGHBORHOOD  \\\n",
       "0               4        1  ALPHABET CITY   \n",
       "1               5        1  ALPHABET CITY   \n",
       "2               6        1  ALPHABET CITY   \n",
       "3               7        1  ALPHABET CITY   \n",
       "4               8        1  ALPHABET CITY   \n",
       "...           ...      ...            ...   \n",
       "84543        8409        5        WOODROW   \n",
       "84544        8410        5        WOODROW   \n",
       "84545        8411        5        WOODROW   \n",
       "84546        8412        5        WOODROW   \n",
       "84547        8413        5        WOODROW   \n",
       "\n",
       "                           BUILDING CLASS CATEGORY TAX CLASS AT PRESENT  \\\n",
       "0      07 RENTALS - WALKUP APARTMENTS                                2A   \n",
       "1      07 RENTALS - WALKUP APARTMENTS                                 2   \n",
       "2      07 RENTALS - WALKUP APARTMENTS                                 2   \n",
       "3      07 RENTALS - WALKUP APARTMENTS                                2B   \n",
       "4      07 RENTALS - WALKUP APARTMENTS                                2A   \n",
       "...                                            ...                  ...   \n",
       "84543  02 TWO FAMILY DWELLINGS                                        1   \n",
       "84544  02 TWO FAMILY DWELLINGS                                        1   \n",
       "84545  02 TWO FAMILY DWELLINGS                                        1   \n",
       "84546  22 STORE BUILDINGS                                             4   \n",
       "84547  35 INDOOR PUBLIC AND CULTURAL FACILITIES                       4   \n",
       "\n",
       "       BLOCK  LOT EASE-MENT BUILDING CLASS AT PRESENT                 ADDRESS  \\\n",
       "0        392    6                                  C2            153 AVENUE B   \n",
       "1        399   26                                  C7   234 EAST 4TH   STREET   \n",
       "2        399   39                                  C7   197 EAST 3RD   STREET   \n",
       "3        402   21                                  C4     154 EAST 7TH STREET   \n",
       "4        404   55                                  C2  301 EAST 10TH   STREET   \n",
       "...      ...  ...       ...                       ...                     ...   \n",
       "84543   7349   34                                  B9           37 QUAIL LANE   \n",
       "84544   7349   78                                  B9        32 PHEASANT LANE   \n",
       "84545   7351   60                                  B2        49 PITNEY AVENUE   \n",
       "84546   7100   28                                  K6   2730 ARTHUR KILL ROAD   \n",
       "84547   7105  679                                  P9       155 CLAY PIT ROAD   \n",
       "\n",
       "      APARTMENT NUMBER  ZIP CODE  RESIDENTIAL UNITS  COMMERCIAL UNITS  \\\n",
       "0                          10009                  5                 0   \n",
       "1                          10009                 28                 3   \n",
       "2                          10009                 16                 1   \n",
       "3                          10009                 10                 0   \n",
       "4                          10009                  6                 0   \n",
       "...                ...       ...                ...               ...   \n",
       "84543                      10309                  2                 0   \n",
       "84544                      10309                  2                 0   \n",
       "84545                      10309                  2                 0   \n",
       "84546                      10309                  0                 7   \n",
       "84547                      10309                  0                 1   \n",
       "\n",
       "       TOTAL UNITS LAND SQUARE FEET GROSS SQUARE FEET  YEAR BUILT  \\\n",
       "0                5             1633              6440        1900   \n",
       "1               31             4616             18690        1900   \n",
       "2               17             2212              7803        1900   \n",
       "3               10             2272              6794        1913   \n",
       "4                6             2369              4615        1900   \n",
       "...            ...              ...               ...         ...   \n",
       "84543            2             2400              2575        1998   \n",
       "84544            2             2498              2377        1998   \n",
       "84545            2             4000              1496        1925   \n",
       "84546            7           208033             64117        2001   \n",
       "84547            1            10796              2400        2006   \n",
       "\n",
       "       TAX CLASS AT TIME OF SALE BUILDING CLASS AT TIME OF SALE SALE PRICE  \\\n",
       "0                              2                             C2    6625000   \n",
       "1                              2                             C7        -     \n",
       "2                              2                             C7        -     \n",
       "3                              2                             C4    3936272   \n",
       "4                              2                             C2    8000000   \n",
       "...                          ...                            ...        ...   \n",
       "84543                          1                             B9     450000   \n",
       "84544                          1                             B9     550000   \n",
       "84545                          1                             B2     460000   \n",
       "84546                          4                             K6   11693337   \n",
       "84547                          4                             P9      69300   \n",
       "\n",
       "                 SALE DATE  \n",
       "0      2017-07-19 00:00:00  \n",
       "1      2016-12-14 00:00:00  \n",
       "2      2016-12-09 00:00:00  \n",
       "3      2016-09-23 00:00:00  \n",
       "4      2016-11-17 00:00:00  \n",
       "...                    ...  \n",
       "84543  2016-11-28 00:00:00  \n",
       "84544  2017-04-21 00:00:00  \n",
       "84545  2017-07-05 00:00:00  \n",
       "84546  2016-12-21 00:00:00  \n",
       "84547  2016-10-27 00:00:00  \n",
       "\n",
       "[84548 rows x 22 columns]"
      ]
     },
     "execution_count": 2,
     "metadata": {},
     "output_type": "execute_result"
    }
   ],
   "source": [
    "df = pd.read_csv('nyc-rolling-sales.csv')\n",
    "pd.set_option('display.max.columns',None)\n",
    "\n",
    "df"
   ]
  },
  {
   "cell_type": "markdown",
   "metadata": {},
   "source": [
    "Dataset ini berisi tentang catatan penjualan properti di New York selama periode 12 bulan, terkait harga properti tersebut terjual, berisi lokasi, alamat, jenis, harga jual, dan tanggal penjualan unit bangunan yang terjual. Referensi di bidang yang lebih rumit:\n",
    "- `BOROUGH`: Kode digit untuk borough tempat properti berada; dalam urutan ini adalah Manhattan (1), Bronx (2), Brooklyn (3), Queens (4), dan Staten Island (5)\n",
    "- `BLOCK; LOT`: Kombinasi borough, block, dan lot membentuk kunci unik untuk properti di New York City. Biasa disebut BBL.\n",
    "- `BUILDING CLASS AT PRESENT and BUILDING CLASS AT TIME OF SALE`: Jenis bangunan pada berbagai titik waktu\n"
   ]
  },
  {
   "cell_type": "markdown",
   "metadata": {},
   "source": [
    "# **C. DATA EXPLORATION**\n",
    "----------------------------------------"
   ]
  },
  {
   "cell_type": "markdown",
   "metadata": {},
   "source": [
    "## 1. Melihat Ukuran Dataset"
   ]
  },
  {
   "cell_type": "code",
   "execution_count": 3,
   "metadata": {},
   "outputs": [
    {
     "data": {
      "text/plain": [
       "(84548, 22)"
      ]
     },
     "execution_count": 3,
     "metadata": {},
     "output_type": "execute_result"
    }
   ],
   "source": [
    "df.shape"
   ]
  },
  {
   "cell_type": "markdown",
   "metadata": {},
   "source": [
    "## 2. Melihat Info Data"
   ]
  },
  {
   "cell_type": "code",
   "execution_count": 4,
   "metadata": {},
   "outputs": [
    {
     "name": "stdout",
     "output_type": "stream",
     "text": [
      "<class 'pandas.core.frame.DataFrame'>\n",
      "RangeIndex: 84548 entries, 0 to 84547\n",
      "Data columns (total 22 columns):\n",
      " #   Column                          Non-Null Count  Dtype \n",
      "---  ------                          --------------  ----- \n",
      " 0   Unnamed: 0                      84548 non-null  int64 \n",
      " 1   BOROUGH                         84548 non-null  int64 \n",
      " 2   NEIGHBORHOOD                    84548 non-null  object\n",
      " 3   BUILDING CLASS CATEGORY         84548 non-null  object\n",
      " 4   TAX CLASS AT PRESENT            84548 non-null  object\n",
      " 5   BLOCK                           84548 non-null  int64 \n",
      " 6   LOT                             84548 non-null  int64 \n",
      " 7   EASE-MENT                       84548 non-null  object\n",
      " 8   BUILDING CLASS AT PRESENT       84548 non-null  object\n",
      " 9   ADDRESS                         84548 non-null  object\n",
      " 10  APARTMENT NUMBER                84548 non-null  object\n",
      " 11  ZIP CODE                        84548 non-null  int64 \n",
      " 12  RESIDENTIAL UNITS               84548 non-null  int64 \n",
      " 13  COMMERCIAL UNITS                84548 non-null  int64 \n",
      " 14  TOTAL UNITS                     84548 non-null  int64 \n",
      " 15  LAND SQUARE FEET                84548 non-null  object\n",
      " 16  GROSS SQUARE FEET               84548 non-null  object\n",
      " 17  YEAR BUILT                      84548 non-null  int64 \n",
      " 18  TAX CLASS AT TIME OF SALE       84548 non-null  int64 \n",
      " 19  BUILDING CLASS AT TIME OF SALE  84548 non-null  object\n",
      " 20  SALE PRICE                      84548 non-null  object\n",
      " 21  SALE DATE                       84548 non-null  object\n",
      "dtypes: int64(10), object(12)\n",
      "memory usage: 14.2+ MB\n"
     ]
    }
   ],
   "source": [
    "df.info()"
   ]
  },
  {
   "cell_type": "markdown",
   "metadata": {},
   "source": [
    "Data ini memiliki **22 kolom dan 84548 baris**, dengan tipe data object dan integer."
   ]
  },
  {
   "cell_type": "markdown",
   "metadata": {},
   "source": [
    "## 3. Melihat Atribut pada Dataset"
   ]
  },
  {
   "cell_type": "code",
   "execution_count": 5,
   "metadata": {},
   "outputs": [
    {
     "data": {
      "text/plain": [
       "array(['Unnamed: 0', 'BOROUGH', 'NEIGHBORHOOD', 'BUILDING CLASS CATEGORY',\n",
       "       'TAX CLASS AT PRESENT', 'BLOCK', 'LOT', 'EASE-MENT',\n",
       "       'BUILDING CLASS AT PRESENT', 'ADDRESS', 'APARTMENT NUMBER',\n",
       "       'ZIP CODE', 'RESIDENTIAL UNITS', 'COMMERCIAL UNITS', 'TOTAL UNITS',\n",
       "       'LAND SQUARE FEET', 'GROSS SQUARE FEET', 'YEAR BUILT',\n",
       "       'TAX CLASS AT TIME OF SALE', 'BUILDING CLASS AT TIME OF SALE',\n",
       "       'SALE PRICE', 'SALE DATE'], dtype=object)"
      ]
     },
     "execution_count": 5,
     "metadata": {},
     "output_type": "execute_result"
    }
   ],
   "source": [
    "df.columns.values"
   ]
  },
  {
   "cell_type": "markdown",
   "metadata": {},
   "source": [
    "# **D. DATA CLEANING & PREPROCESSING**\n",
    "___________________________________________________________"
   ]
  },
  {
   "cell_type": "markdown",
   "metadata": {},
   "source": [
    "## 1. Menghapus kolom yang tidak di butuhkan"
   ]
  },
  {
   "cell_type": "code",
   "execution_count": 6,
   "metadata": {},
   "outputs": [],
   "source": [
    "df.drop(['Unnamed: 0', 'BLOCK', 'LOT', 'EASE-MENT', 'APARTMENT NUMBER','ADDRESS','ZIP CODE'\n",
    "         , 'BUILDING CLASS AT PRESENT','BUILDING CLASS AT TIME OF SALE'], axis=1,inplace=True)"
   ]
  },
  {
   "cell_type": "markdown",
   "metadata": {},
   "source": [
    "## 2. Mengubah index pada borough\n"
   ]
  },
  {
   "cell_type": "code",
   "execution_count": 7,
   "metadata": {},
   "outputs": [
    {
     "data": {
      "text/html": [
       "<div>\n",
       "<style scoped>\n",
       "    .dataframe tbody tr th:only-of-type {\n",
       "        vertical-align: middle;\n",
       "    }\n",
       "\n",
       "    .dataframe tbody tr th {\n",
       "        vertical-align: top;\n",
       "    }\n",
       "\n",
       "    .dataframe thead th {\n",
       "        text-align: right;\n",
       "    }\n",
       "</style>\n",
       "<table border=\"1\" class=\"dataframe\">\n",
       "  <thead>\n",
       "    <tr style=\"text-align: right;\">\n",
       "      <th></th>\n",
       "      <th>BOROUGH</th>\n",
       "      <th>NEIGHBORHOOD</th>\n",
       "      <th>BUILDING CLASS CATEGORY</th>\n",
       "      <th>TAX CLASS AT PRESENT</th>\n",
       "      <th>RESIDENTIAL UNITS</th>\n",
       "      <th>COMMERCIAL UNITS</th>\n",
       "      <th>TOTAL UNITS</th>\n",
       "      <th>LAND SQUARE FEET</th>\n",
       "      <th>GROSS SQUARE FEET</th>\n",
       "      <th>YEAR BUILT</th>\n",
       "      <th>TAX CLASS AT TIME OF SALE</th>\n",
       "      <th>SALE PRICE</th>\n",
       "      <th>SALE DATE</th>\n",
       "    </tr>\n",
       "  </thead>\n",
       "  <tbody>\n",
       "    <tr>\n",
       "      <th>0</th>\n",
       "      <td>Manhattan</td>\n",
       "      <td>ALPHABET CITY</td>\n",
       "      <td>07 RENTALS - WALKUP APARTMENTS</td>\n",
       "      <td>2A</td>\n",
       "      <td>5</td>\n",
       "      <td>0</td>\n",
       "      <td>5</td>\n",
       "      <td>1633</td>\n",
       "      <td>6440</td>\n",
       "      <td>1900</td>\n",
       "      <td>2</td>\n",
       "      <td>6625000</td>\n",
       "      <td>2017-07-19 00:00:00</td>\n",
       "    </tr>\n",
       "    <tr>\n",
       "      <th>1</th>\n",
       "      <td>Manhattan</td>\n",
       "      <td>ALPHABET CITY</td>\n",
       "      <td>07 RENTALS - WALKUP APARTMENTS</td>\n",
       "      <td>2</td>\n",
       "      <td>28</td>\n",
       "      <td>3</td>\n",
       "      <td>31</td>\n",
       "      <td>4616</td>\n",
       "      <td>18690</td>\n",
       "      <td>1900</td>\n",
       "      <td>2</td>\n",
       "      <td>-</td>\n",
       "      <td>2016-12-14 00:00:00</td>\n",
       "    </tr>\n",
       "    <tr>\n",
       "      <th>2</th>\n",
       "      <td>Manhattan</td>\n",
       "      <td>ALPHABET CITY</td>\n",
       "      <td>07 RENTALS - WALKUP APARTMENTS</td>\n",
       "      <td>2</td>\n",
       "      <td>16</td>\n",
       "      <td>1</td>\n",
       "      <td>17</td>\n",
       "      <td>2212</td>\n",
       "      <td>7803</td>\n",
       "      <td>1900</td>\n",
       "      <td>2</td>\n",
       "      <td>-</td>\n",
       "      <td>2016-12-09 00:00:00</td>\n",
       "    </tr>\n",
       "    <tr>\n",
       "      <th>3</th>\n",
       "      <td>Manhattan</td>\n",
       "      <td>ALPHABET CITY</td>\n",
       "      <td>07 RENTALS - WALKUP APARTMENTS</td>\n",
       "      <td>2B</td>\n",
       "      <td>10</td>\n",
       "      <td>0</td>\n",
       "      <td>10</td>\n",
       "      <td>2272</td>\n",
       "      <td>6794</td>\n",
       "      <td>1913</td>\n",
       "      <td>2</td>\n",
       "      <td>3936272</td>\n",
       "      <td>2016-09-23 00:00:00</td>\n",
       "    </tr>\n",
       "    <tr>\n",
       "      <th>4</th>\n",
       "      <td>Manhattan</td>\n",
       "      <td>ALPHABET CITY</td>\n",
       "      <td>07 RENTALS - WALKUP APARTMENTS</td>\n",
       "      <td>2A</td>\n",
       "      <td>6</td>\n",
       "      <td>0</td>\n",
       "      <td>6</td>\n",
       "      <td>2369</td>\n",
       "      <td>4615</td>\n",
       "      <td>1900</td>\n",
       "      <td>2</td>\n",
       "      <td>8000000</td>\n",
       "      <td>2016-11-17 00:00:00</td>\n",
       "    </tr>\n",
       "  </tbody>\n",
       "</table>\n",
       "</div>"
      ],
      "text/plain": [
       "     BOROUGH   NEIGHBORHOOD                      BUILDING CLASS CATEGORY  \\\n",
       "0  Manhattan  ALPHABET CITY  07 RENTALS - WALKUP APARTMENTS                \n",
       "1  Manhattan  ALPHABET CITY  07 RENTALS - WALKUP APARTMENTS                \n",
       "2  Manhattan  ALPHABET CITY  07 RENTALS - WALKUP APARTMENTS                \n",
       "3  Manhattan  ALPHABET CITY  07 RENTALS - WALKUP APARTMENTS                \n",
       "4  Manhattan  ALPHABET CITY  07 RENTALS - WALKUP APARTMENTS                \n",
       "\n",
       "  TAX CLASS AT PRESENT  RESIDENTIAL UNITS  COMMERCIAL UNITS  TOTAL UNITS  \\\n",
       "0                   2A                  5                 0            5   \n",
       "1                    2                 28                 3           31   \n",
       "2                    2                 16                 1           17   \n",
       "3                   2B                 10                 0           10   \n",
       "4                   2A                  6                 0            6   \n",
       "\n",
       "  LAND SQUARE FEET GROSS SQUARE FEET  YEAR BUILT  TAX CLASS AT TIME OF SALE  \\\n",
       "0             1633              6440        1900                          2   \n",
       "1             4616             18690        1900                          2   \n",
       "2             2212              7803        1900                          2   \n",
       "3             2272              6794        1913                          2   \n",
       "4             2369              4615        1900                          2   \n",
       "\n",
       "  SALE PRICE            SALE DATE  \n",
       "0    6625000  2017-07-19 00:00:00  \n",
       "1        -    2016-12-14 00:00:00  \n",
       "2        -    2016-12-09 00:00:00  \n",
       "3    3936272  2016-09-23 00:00:00  \n",
       "4    8000000  2016-11-17 00:00:00  "
      ]
     },
     "execution_count": 7,
     "metadata": {},
     "output_type": "execute_result"
    }
   ],
   "source": [
    "# Mapping pada kolom BOROUGH, karena masih berupa kategori angka, maka akan diubah masing-masing angka berdasarkan nama borough pada angka tersebut.\n",
    "df['BOROUGH'] = df['BOROUGH'].map({1: 'Manhattan', 2:'Bronx', 3: 'Brooklyn', 4:'Queens', 5:'Staten Island'})\n",
    "df.head()"
   ]
  },
  {
   "cell_type": "markdown",
   "metadata": {},
   "source": [
    "## 3. Mengubah tipe data yang belum sesuai"
   ]
  },
  {
   "cell_type": "code",
   "execution_count": 8,
   "metadata": {},
   "outputs": [
    {
     "data": {
      "text/plain": [
       "BOROUGH                      object\n",
       "NEIGHBORHOOD                 object\n",
       "BUILDING CLASS CATEGORY      object\n",
       "TAX CLASS AT PRESENT         object\n",
       "RESIDENTIAL UNITS             int64\n",
       "COMMERCIAL UNITS              int64\n",
       "TOTAL UNITS                   int64\n",
       "LAND SQUARE FEET             object\n",
       "GROSS SQUARE FEET            object\n",
       "YEAR BUILT                    int64\n",
       "TAX CLASS AT TIME OF SALE     int64\n",
       "SALE PRICE                   object\n",
       "SALE DATE                    object\n",
       "dtype: object"
      ]
     },
     "execution_count": 8,
     "metadata": {},
     "output_type": "execute_result"
    }
   ],
   "source": [
    "df.dtypes"
   ]
  },
  {
   "cell_type": "code",
   "execution_count": 9,
   "metadata": {},
   "outputs": [],
   "source": [
    "# Mengubah tipe data pada kolom 'SALE DATE'\n",
    "df['SALE DATE']= pd.to_datetime(df['SALE DATE'])"
   ]
  },
  {
   "cell_type": "code",
   "execution_count": 10,
   "metadata": {},
   "outputs": [
    {
     "data": {
      "text/plain": [
       "BOROUGH                              object\n",
       "NEIGHBORHOOD                         object\n",
       "BUILDING CLASS CATEGORY              object\n",
       "TAX CLASS AT PRESENT                 object\n",
       "RESIDENTIAL UNITS                     int64\n",
       "COMMERCIAL UNITS                      int64\n",
       "TOTAL UNITS                           int64\n",
       "LAND SQUARE FEET                    float64\n",
       "GROSS SQUARE FEET                   float64\n",
       "YEAR BUILT                            int64\n",
       "TAX CLASS AT TIME OF SALE             int64\n",
       "SALE PRICE                          float64\n",
       "SALE DATE                    datetime64[ns]\n",
       "dtype: object"
      ]
     },
     "execution_count": 10,
     "metadata": {},
     "output_type": "execute_result"
    }
   ],
   "source": [
    "# Mengubah tipe data pada kolom 'land square feet','gross square feet','sale price'\n",
    "df['LAND SQUARE FEET'] = pd.to_numeric(df['LAND SQUARE FEET'], errors= 'coerce')\n",
    "df['GROSS SQUARE FEET'] = pd.to_numeric(df['GROSS SQUARE FEET'], errors='coerce')\n",
    "df['SALE PRICE'] = pd.to_numeric(df['SALE PRICE'], errors='coerce')\n",
    "df.dtypes"
   ]
  },
  {
   "cell_type": "markdown",
   "metadata": {},
   "source": [
    "## 4. Mengatasi Missing Value pada Dataset"
   ]
  },
  {
   "cell_type": "code",
   "execution_count": 11,
   "metadata": {},
   "outputs": [
    {
     "data": {
      "text/plain": [
       "BOROUGH                          0\n",
       "NEIGHBORHOOD                     0\n",
       "BUILDING CLASS CATEGORY          0\n",
       "TAX CLASS AT PRESENT             0\n",
       "RESIDENTIAL UNITS                0\n",
       "COMMERCIAL UNITS                 0\n",
       "TOTAL UNITS                      0\n",
       "LAND SQUARE FEET             26252\n",
       "GROSS SQUARE FEET            27612\n",
       "YEAR BUILT                       0\n",
       "TAX CLASS AT TIME OF SALE        0\n",
       "SALE PRICE                   14561\n",
       "SALE DATE                        0\n",
       "dtype: int64"
      ]
     },
     "execution_count": 11,
     "metadata": {},
     "output_type": "execute_result"
    }
   ],
   "source": [
    "df.isnull().sum()"
   ]
  },
  {
   "cell_type": "markdown",
   "metadata": {},
   "source": [
    "Sekarang, data type sudah sesuai. Namun ternyata masih banyak kolom yang memiliki nilai 0. Oleh karena itu, saya menggunakan keterangan sebagai berikut.\n",
    "\n",
    "- Untuk kolom `residential units, commercial units, dan total units` : nilai 0 tidak diganti dengan apapun karena nilainya saling berketerkaitan.\n",
    "- Untuk kolom ``land square feet, dan gross square feet`` : nilai NaN dihapus karena saya mengasumsikan jika nilainya Nan maka daerah tersebut tidak memiliki lahan tanah maupun rumput.\n",
    "- ``Sale price`` : nilai 0 akan diganti dengan median pada kolom tersebut"
   ]
  },
  {
   "cell_type": "code",
   "execution_count": 12,
   "metadata": {},
   "outputs": [],
   "source": [
    "#Menghapus nilai Nan pada kolom 'LAND SQUARE FEET' dan 'GROSS SQUARE FEET'\n",
    "df = df.dropna(subset=['LAND SQUARE FEET', 'GROSS SQUARE FEET'])\n"
   ]
  },
  {
   "cell_type": "code",
   "execution_count": 13,
   "metadata": {},
   "outputs": [
    {
     "data": {
      "text/html": [
       "<div>\n",
       "<style scoped>\n",
       "    .dataframe tbody tr th:only-of-type {\n",
       "        vertical-align: middle;\n",
       "    }\n",
       "\n",
       "    .dataframe tbody tr th {\n",
       "        vertical-align: top;\n",
       "    }\n",
       "\n",
       "    .dataframe thead th {\n",
       "        text-align: right;\n",
       "    }\n",
       "</style>\n",
       "<table border=\"1\" class=\"dataframe\">\n",
       "  <thead>\n",
       "    <tr style=\"text-align: right;\">\n",
       "      <th></th>\n",
       "      <th>missing_value_percentage</th>\n",
       "    </tr>\n",
       "  </thead>\n",
       "  <tbody>\n",
       "    <tr>\n",
       "      <th>BOROUGH</th>\n",
       "      <td>0.00</td>\n",
       "    </tr>\n",
       "    <tr>\n",
       "      <th>NEIGHBORHOOD</th>\n",
       "      <td>0.00</td>\n",
       "    </tr>\n",
       "    <tr>\n",
       "      <th>BUILDING CLASS CATEGORY</th>\n",
       "      <td>0.00</td>\n",
       "    </tr>\n",
       "    <tr>\n",
       "      <th>TAX CLASS AT PRESENT</th>\n",
       "      <td>0.00</td>\n",
       "    </tr>\n",
       "    <tr>\n",
       "      <th>RESIDENTIAL UNITS</th>\n",
       "      <td>0.00</td>\n",
       "    </tr>\n",
       "    <tr>\n",
       "      <th>COMMERCIAL UNITS</th>\n",
       "      <td>0.00</td>\n",
       "    </tr>\n",
       "    <tr>\n",
       "      <th>TOTAL UNITS</th>\n",
       "      <td>0.00</td>\n",
       "    </tr>\n",
       "    <tr>\n",
       "      <th>LAND SQUARE FEET</th>\n",
       "      <td>0.00</td>\n",
       "    </tr>\n",
       "    <tr>\n",
       "      <th>GROSS SQUARE FEET</th>\n",
       "      <td>0.00</td>\n",
       "    </tr>\n",
       "    <tr>\n",
       "      <th>YEAR BUILT</th>\n",
       "      <td>0.00</td>\n",
       "    </tr>\n",
       "    <tr>\n",
       "      <th>TAX CLASS AT TIME OF SALE</th>\n",
       "      <td>0.00</td>\n",
       "    </tr>\n",
       "    <tr>\n",
       "      <th>SALE PRICE</th>\n",
       "      <td>15.26</td>\n",
       "    </tr>\n",
       "    <tr>\n",
       "      <th>SALE DATE</th>\n",
       "      <td>0.00</td>\n",
       "    </tr>\n",
       "  </tbody>\n",
       "</table>\n",
       "</div>"
      ],
      "text/plain": [
       "                           missing_value_percentage\n",
       "BOROUGH                                        0.00\n",
       "NEIGHBORHOOD                                   0.00\n",
       "BUILDING CLASS CATEGORY                        0.00\n",
       "TAX CLASS AT PRESENT                           0.00\n",
       "RESIDENTIAL UNITS                              0.00\n",
       "COMMERCIAL UNITS                               0.00\n",
       "TOTAL UNITS                                    0.00\n",
       "LAND SQUARE FEET                               0.00\n",
       "GROSS SQUARE FEET                              0.00\n",
       "YEAR BUILT                                     0.00\n",
       "TAX CLASS AT TIME OF SALE                      0.00\n",
       "SALE PRICE                                    15.26\n",
       "SALE DATE                                      0.00"
      ]
     },
     "execution_count": 13,
     "metadata": {},
     "output_type": "execute_result"
    }
   ],
   "source": [
    "# Melihat presentase nilai Nan pada setiap kolom\n",
    "df_NaN = round((df.isnull().sum())/len(df)*100, 2)\n",
    "df_NaN = pd.DataFrame(df_NaN)\n",
    "df_NaN = df_NaN.rename(columns={0:'missing_value_percentage'})\n",
    "df_NaN"
   ]
  },
  {
   "cell_type": "code",
   "execution_count": 14,
   "metadata": {},
   "outputs": [
    {
     "data": {
      "text/plain": [
       "480000.0"
      ]
     },
     "execution_count": 14,
     "metadata": {},
     "output_type": "execute_result"
    }
   ],
   "source": [
    "# Menghitung nilai Median pada kolom \"SALE PRICE\"\n",
    "SP_median = df['SALE PRICE'].median()\n",
    "SP_median"
   ]
  },
  {
   "cell_type": "code",
   "execution_count": 15,
   "metadata": {},
   "outputs": [
    {
     "name": "stderr",
     "output_type": "stream",
     "text": [
      "C:\\Users\\USER\\AppData\\Local\\Temp\\ipykernel_13124\\303673178.py:2: SettingWithCopyWarning: \n",
      "A value is trying to be set on a copy of a slice from a DataFrame\n",
      "\n",
      "See the caveats in the documentation: https://pandas.pydata.org/pandas-docs/stable/user_guide/indexing.html#returning-a-view-versus-a-copy\n",
      "  df['SALE PRICE'].fillna(480000, inplace=True)\n"
     ]
    },
    {
     "data": {
      "text/html": [
       "<div>\n",
       "<style scoped>\n",
       "    .dataframe tbody tr th:only-of-type {\n",
       "        vertical-align: middle;\n",
       "    }\n",
       "\n",
       "    .dataframe tbody tr th {\n",
       "        vertical-align: top;\n",
       "    }\n",
       "\n",
       "    .dataframe thead th {\n",
       "        text-align: right;\n",
       "    }\n",
       "</style>\n",
       "<table border=\"1\" class=\"dataframe\">\n",
       "  <thead>\n",
       "    <tr style=\"text-align: right;\">\n",
       "      <th></th>\n",
       "      <th>BOROUGH</th>\n",
       "      <th>NEIGHBORHOOD</th>\n",
       "      <th>BUILDING CLASS CATEGORY</th>\n",
       "      <th>TAX CLASS AT PRESENT</th>\n",
       "      <th>RESIDENTIAL UNITS</th>\n",
       "      <th>COMMERCIAL UNITS</th>\n",
       "      <th>TOTAL UNITS</th>\n",
       "      <th>LAND SQUARE FEET</th>\n",
       "      <th>GROSS SQUARE FEET</th>\n",
       "      <th>YEAR BUILT</th>\n",
       "      <th>TAX CLASS AT TIME OF SALE</th>\n",
       "      <th>SALE PRICE</th>\n",
       "      <th>SALE DATE</th>\n",
       "    </tr>\n",
       "  </thead>\n",
       "  <tbody>\n",
       "    <tr>\n",
       "      <th>0</th>\n",
       "      <td>Manhattan</td>\n",
       "      <td>ALPHABET CITY</td>\n",
       "      <td>07 RENTALS - WALKUP APARTMENTS</td>\n",
       "      <td>2A</td>\n",
       "      <td>5</td>\n",
       "      <td>0</td>\n",
       "      <td>5</td>\n",
       "      <td>1633.0</td>\n",
       "      <td>6440.0</td>\n",
       "      <td>1900</td>\n",
       "      <td>2</td>\n",
       "      <td>6625000.0</td>\n",
       "      <td>2017-07-19</td>\n",
       "    </tr>\n",
       "    <tr>\n",
       "      <th>1</th>\n",
       "      <td>Manhattan</td>\n",
       "      <td>ALPHABET CITY</td>\n",
       "      <td>07 RENTALS - WALKUP APARTMENTS</td>\n",
       "      <td>2</td>\n",
       "      <td>28</td>\n",
       "      <td>3</td>\n",
       "      <td>31</td>\n",
       "      <td>4616.0</td>\n",
       "      <td>18690.0</td>\n",
       "      <td>1900</td>\n",
       "      <td>2</td>\n",
       "      <td>480000.0</td>\n",
       "      <td>2016-12-14</td>\n",
       "    </tr>\n",
       "    <tr>\n",
       "      <th>2</th>\n",
       "      <td>Manhattan</td>\n",
       "      <td>ALPHABET CITY</td>\n",
       "      <td>07 RENTALS - WALKUP APARTMENTS</td>\n",
       "      <td>2</td>\n",
       "      <td>16</td>\n",
       "      <td>1</td>\n",
       "      <td>17</td>\n",
       "      <td>2212.0</td>\n",
       "      <td>7803.0</td>\n",
       "      <td>1900</td>\n",
       "      <td>2</td>\n",
       "      <td>480000.0</td>\n",
       "      <td>2016-12-09</td>\n",
       "    </tr>\n",
       "    <tr>\n",
       "      <th>3</th>\n",
       "      <td>Manhattan</td>\n",
       "      <td>ALPHABET CITY</td>\n",
       "      <td>07 RENTALS - WALKUP APARTMENTS</td>\n",
       "      <td>2B</td>\n",
       "      <td>10</td>\n",
       "      <td>0</td>\n",
       "      <td>10</td>\n",
       "      <td>2272.0</td>\n",
       "      <td>6794.0</td>\n",
       "      <td>1913</td>\n",
       "      <td>2</td>\n",
       "      <td>3936272.0</td>\n",
       "      <td>2016-09-23</td>\n",
       "    </tr>\n",
       "    <tr>\n",
       "      <th>4</th>\n",
       "      <td>Manhattan</td>\n",
       "      <td>ALPHABET CITY</td>\n",
       "      <td>07 RENTALS - WALKUP APARTMENTS</td>\n",
       "      <td>2A</td>\n",
       "      <td>6</td>\n",
       "      <td>0</td>\n",
       "      <td>6</td>\n",
       "      <td>2369.0</td>\n",
       "      <td>4615.0</td>\n",
       "      <td>1900</td>\n",
       "      <td>2</td>\n",
       "      <td>8000000.0</td>\n",
       "      <td>2016-11-17</td>\n",
       "    </tr>\n",
       "  </tbody>\n",
       "</table>\n",
       "</div>"
      ],
      "text/plain": [
       "     BOROUGH   NEIGHBORHOOD                      BUILDING CLASS CATEGORY  \\\n",
       "0  Manhattan  ALPHABET CITY  07 RENTALS - WALKUP APARTMENTS                \n",
       "1  Manhattan  ALPHABET CITY  07 RENTALS - WALKUP APARTMENTS                \n",
       "2  Manhattan  ALPHABET CITY  07 RENTALS - WALKUP APARTMENTS                \n",
       "3  Manhattan  ALPHABET CITY  07 RENTALS - WALKUP APARTMENTS                \n",
       "4  Manhattan  ALPHABET CITY  07 RENTALS - WALKUP APARTMENTS                \n",
       "\n",
       "  TAX CLASS AT PRESENT  RESIDENTIAL UNITS  COMMERCIAL UNITS  TOTAL UNITS  \\\n",
       "0                   2A                  5                 0            5   \n",
       "1                    2                 28                 3           31   \n",
       "2                    2                 16                 1           17   \n",
       "3                   2B                 10                 0           10   \n",
       "4                   2A                  6                 0            6   \n",
       "\n",
       "   LAND SQUARE FEET  GROSS SQUARE FEET  YEAR BUILT  TAX CLASS AT TIME OF SALE  \\\n",
       "0            1633.0             6440.0        1900                          2   \n",
       "1            4616.0            18690.0        1900                          2   \n",
       "2            2212.0             7803.0        1900                          2   \n",
       "3            2272.0             6794.0        1913                          2   \n",
       "4            2369.0             4615.0        1900                          2   \n",
       "\n",
       "   SALE PRICE  SALE DATE  \n",
       "0   6625000.0 2017-07-19  \n",
       "1    480000.0 2016-12-14  \n",
       "2    480000.0 2016-12-09  \n",
       "3   3936272.0 2016-09-23  \n",
       "4   8000000.0 2016-11-17  "
      ]
     },
     "execution_count": 15,
     "metadata": {},
     "output_type": "execute_result"
    }
   ],
   "source": [
    "# Mengganti nilai Nan pada kolom 'SALE PRICE' menjadi nilai Median\n",
    "df['SALE PRICE'].fillna(480000, inplace=True)\n",
    "df.head()"
   ]
  },
  {
   "cell_type": "code",
   "execution_count": 16,
   "metadata": {},
   "outputs": [
    {
     "data": {
      "text/plain": [
       "0"
      ]
     },
     "execution_count": 16,
     "metadata": {},
     "output_type": "execute_result"
    }
   ],
   "source": [
    "df['SALE PRICE'].isna().sum()"
   ]
  },
  {
   "cell_type": "markdown",
   "metadata": {},
   "source": [
    "Dataset sudah tidak terdapat missing value"
   ]
  },
  {
   "cell_type": "markdown",
   "metadata": {},
   "source": [
    "## 5. Mengatasi Duplicated Data"
   ]
  },
  {
   "cell_type": "code",
   "execution_count": 17,
   "metadata": {},
   "outputs": [
    {
     "data": {
      "text/plain": [
       "1266"
      ]
     },
     "execution_count": 17,
     "metadata": {},
     "output_type": "execute_result"
    }
   ],
   "source": [
    "df.duplicated().sum()"
   ]
  },
  {
   "cell_type": "code",
   "execution_count": 18,
   "metadata": {},
   "outputs": [
    {
     "data": {
      "text/plain": [
       "False"
      ]
     },
     "execution_count": 18,
     "metadata": {},
     "output_type": "execute_result"
    }
   ],
   "source": [
    "df = df.drop_duplicates(df.columns)\n",
    "\n",
    "df.duplicated().any()"
   ]
  },
  {
   "cell_type": "markdown",
   "metadata": {},
   "source": [
    "Sudah tidak terdapat duplicate pada keseluruhan dataset"
   ]
  },
  {
   "cell_type": "markdown",
   "metadata": {},
   "source": [
    "## 6. Melihat informasi statistik"
   ]
  },
  {
   "cell_type": "code",
   "execution_count": 19,
   "metadata": {},
   "outputs": [
    {
     "data": {
      "text/html": [
       "<div>\n",
       "<style scoped>\n",
       "    .dataframe tbody tr th:only-of-type {\n",
       "        vertical-align: middle;\n",
       "    }\n",
       "\n",
       "    .dataframe tbody tr th {\n",
       "        vertical-align: top;\n",
       "    }\n",
       "\n",
       "    .dataframe thead th {\n",
       "        text-align: right;\n",
       "    }\n",
       "</style>\n",
       "<table border=\"1\" class=\"dataframe\">\n",
       "  <thead>\n",
       "    <tr style=\"text-align: right;\">\n",
       "      <th></th>\n",
       "      <th>RESIDENTIAL UNITS</th>\n",
       "      <th>COMMERCIAL UNITS</th>\n",
       "      <th>TOTAL UNITS</th>\n",
       "      <th>LAND SQUARE FEET</th>\n",
       "      <th>GROSS SQUARE FEET</th>\n",
       "      <th>YEAR BUILT</th>\n",
       "      <th>TAX CLASS AT TIME OF SALE</th>\n",
       "      <th>SALE PRICE</th>\n",
       "      <th>SALE DATE</th>\n",
       "    </tr>\n",
       "  </thead>\n",
       "  <tbody>\n",
       "    <tr>\n",
       "      <th>count</th>\n",
       "      <td>55664.000000</td>\n",
       "      <td>55664.000000</td>\n",
       "      <td>55664.000000</td>\n",
       "      <td>5.566400e+04</td>\n",
       "      <td>5.566400e+04</td>\n",
       "      <td>55664.000000</td>\n",
       "      <td>55664.000000</td>\n",
       "      <td>5.566400e+04</td>\n",
       "      <td>55664</td>\n",
       "    </tr>\n",
       "    <tr>\n",
       "      <th>mean</th>\n",
       "      <td>2.704207</td>\n",
       "      <td>0.257941</td>\n",
       "      <td>2.976286</td>\n",
       "      <td>3.552923e+03</td>\n",
       "      <td>3.890544e+03</td>\n",
       "      <td>1850.189889</td>\n",
       "      <td>1.434823</td>\n",
       "      <td>1.067301e+06</td>\n",
       "      <td>2017-02-24 22:04:37.321069312</td>\n",
       "    </tr>\n",
       "    <tr>\n",
       "      <th>min</th>\n",
       "      <td>0.000000</td>\n",
       "      <td>0.000000</td>\n",
       "      <td>0.000000</td>\n",
       "      <td>0.000000e+00</td>\n",
       "      <td>0.000000e+00</td>\n",
       "      <td>0.000000</td>\n",
       "      <td>1.000000</td>\n",
       "      <td>0.000000e+00</td>\n",
       "      <td>2016-09-01 00:00:00</td>\n",
       "    </tr>\n",
       "    <tr>\n",
       "      <th>25%</th>\n",
       "      <td>1.000000</td>\n",
       "      <td>0.000000</td>\n",
       "      <td>1.000000</td>\n",
       "      <td>1.652000e+03</td>\n",
       "      <td>1.060000e+03</td>\n",
       "      <td>1920.000000</td>\n",
       "      <td>1.000000</td>\n",
       "      <td>2.250750e+05</td>\n",
       "      <td>2016-11-29 00:00:00</td>\n",
       "    </tr>\n",
       "    <tr>\n",
       "      <th>50%</th>\n",
       "      <td>1.000000</td>\n",
       "      <td>0.000000</td>\n",
       "      <td>1.000000</td>\n",
       "      <td>2.304000e+03</td>\n",
       "      <td>1.683000e+03</td>\n",
       "      <td>1931.000000</td>\n",
       "      <td>1.000000</td>\n",
       "      <td>4.800000e+05</td>\n",
       "      <td>2017-02-24 00:00:00</td>\n",
       "    </tr>\n",
       "    <tr>\n",
       "      <th>75%</th>\n",
       "      <td>2.000000</td>\n",
       "      <td>0.000000</td>\n",
       "      <td>2.000000</td>\n",
       "      <td>3.450000e+03</td>\n",
       "      <td>2.560000e+03</td>\n",
       "      <td>1960.000000</td>\n",
       "      <td>2.000000</td>\n",
       "      <td>7.500000e+05</td>\n",
       "      <td>2017-05-25 00:00:00</td>\n",
       "    </tr>\n",
       "    <tr>\n",
       "      <th>max</th>\n",
       "      <td>1844.000000</td>\n",
       "      <td>2261.000000</td>\n",
       "      <td>2261.000000</td>\n",
       "      <td>4.228300e+06</td>\n",
       "      <td>3.750565e+06</td>\n",
       "      <td>2017.000000</td>\n",
       "      <td>4.000000</td>\n",
       "      <td>2.210000e+09</td>\n",
       "      <td>2017-08-31 00:00:00</td>\n",
       "    </tr>\n",
       "    <tr>\n",
       "      <th>std</th>\n",
       "      <td>19.396753</td>\n",
       "      <td>10.212459</td>\n",
       "      <td>22.069218</td>\n",
       "      <td>3.435132e+04</td>\n",
       "      <td>3.487999e+04</td>\n",
       "      <td>419.569940</td>\n",
       "      <td>0.812757</td>\n",
       "      <td>1.247130e+07</td>\n",
       "      <td>NaN</td>\n",
       "    </tr>\n",
       "  </tbody>\n",
       "</table>\n",
       "</div>"
      ],
      "text/plain": [
       "       RESIDENTIAL UNITS  COMMERCIAL UNITS   TOTAL UNITS  LAND SQUARE FEET  \\\n",
       "count       55664.000000      55664.000000  55664.000000      5.566400e+04   \n",
       "mean            2.704207          0.257941      2.976286      3.552923e+03   \n",
       "min             0.000000          0.000000      0.000000      0.000000e+00   \n",
       "25%             1.000000          0.000000      1.000000      1.652000e+03   \n",
       "50%             1.000000          0.000000      1.000000      2.304000e+03   \n",
       "75%             2.000000          0.000000      2.000000      3.450000e+03   \n",
       "max          1844.000000       2261.000000   2261.000000      4.228300e+06   \n",
       "std            19.396753         10.212459     22.069218      3.435132e+04   \n",
       "\n",
       "       GROSS SQUARE FEET    YEAR BUILT  TAX CLASS AT TIME OF SALE  \\\n",
       "count       5.566400e+04  55664.000000               55664.000000   \n",
       "mean        3.890544e+03   1850.189889                   1.434823   \n",
       "min         0.000000e+00      0.000000                   1.000000   \n",
       "25%         1.060000e+03   1920.000000                   1.000000   \n",
       "50%         1.683000e+03   1931.000000                   1.000000   \n",
       "75%         2.560000e+03   1960.000000                   2.000000   \n",
       "max         3.750565e+06   2017.000000                   4.000000   \n",
       "std         3.487999e+04    419.569940                   0.812757   \n",
       "\n",
       "         SALE PRICE                      SALE DATE  \n",
       "count  5.566400e+04                          55664  \n",
       "mean   1.067301e+06  2017-02-24 22:04:37.321069312  \n",
       "min    0.000000e+00            2016-09-01 00:00:00  \n",
       "25%    2.250750e+05            2016-11-29 00:00:00  \n",
       "50%    4.800000e+05            2017-02-24 00:00:00  \n",
       "75%    7.500000e+05            2017-05-25 00:00:00  \n",
       "max    2.210000e+09            2017-08-31 00:00:00  \n",
       "std    1.247130e+07                            NaN  "
      ]
     },
     "execution_count": 19,
     "metadata": {},
     "output_type": "execute_result"
    }
   ],
   "source": [
    "df.describe()"
   ]
  },
  {
   "cell_type": "markdown",
   "metadata": {},
   "source": [
    "Berdasarkan output di atas maka dapat diketahui jumlah, rata-rata, standar deviasi, nilai minimum, kuartil 1-3, dan nilai maximum per kolom dataset yang digunakan"
   ]
  },
  {
   "cell_type": "markdown",
   "metadata": {},
   "source": [
    "# **E. PENGOLAHAN DATA**\n",
    "-----------------------------------------------------\n",
    "\n",
    "## 1. **Measure of Central Tendency** (Mean, Median, Modus)\n",
    "-----\n",
    "### a.) Mean\n",
    "#### - Mean Sale Price pada setiap Borough"
   ]
  },
  {
   "cell_type": "code",
   "execution_count": 20,
   "metadata": {},
   "outputs": [
    {
     "data": {
      "text/html": [
       "<div>\n",
       "<style scoped>\n",
       "    .dataframe tbody tr th:only-of-type {\n",
       "        vertical-align: middle;\n",
       "    }\n",
       "\n",
       "    .dataframe tbody tr th {\n",
       "        vertical-align: top;\n",
       "    }\n",
       "\n",
       "    .dataframe thead th {\n",
       "        text-align: right;\n",
       "    }\n",
       "</style>\n",
       "<table border=\"1\" class=\"dataframe\">\n",
       "  <thead>\n",
       "    <tr style=\"text-align: right;\">\n",
       "      <th></th>\n",
       "      <th>SALE PRICE</th>\n",
       "    </tr>\n",
       "    <tr>\n",
       "      <th>BOROUGH</th>\n",
       "      <th></th>\n",
       "    </tr>\n",
       "  </thead>\n",
       "  <tbody>\n",
       "    <tr>\n",
       "      <th>Manhattan</th>\n",
       "      <td>1.150410e+07</td>\n",
       "    </tr>\n",
       "    <tr>\n",
       "      <th>Brooklyn</th>\n",
       "      <td>8.550940e+05</td>\n",
       "    </tr>\n",
       "    <tr>\n",
       "      <th>Queens</th>\n",
       "      <td>7.599055e+05</td>\n",
       "    </tr>\n",
       "    <tr>\n",
       "      <th>Bronx</th>\n",
       "      <td>6.061231e+05</td>\n",
       "    </tr>\n",
       "    <tr>\n",
       "      <th>Staten Island</th>\n",
       "      <td>5.159248e+05</td>\n",
       "    </tr>\n",
       "  </tbody>\n",
       "</table>\n",
       "</div>"
      ],
      "text/plain": [
       "                 SALE PRICE\n",
       "BOROUGH                    \n",
       "Manhattan      1.150410e+07\n",
       "Brooklyn       8.550940e+05\n",
       "Queens         7.599055e+05\n",
       "Bronx          6.061231e+05\n",
       "Staten Island  5.159248e+05"
      ]
     },
     "execution_count": 20,
     "metadata": {},
     "output_type": "execute_result"
    }
   ],
   "source": [
    "mean = df[['BOROUGH','SALE PRICE']].groupby('BOROUGH').mean().sort_values(by='SALE PRICE', ascending=False)\n",
    "mean"
   ]
  },
  {
   "cell_type": "markdown",
   "metadata": {},
   "source": [
    "__Insight :__<br>\n",
    "Dari Analisis diatas dapat kita ketahui bahwa **Kota Manhattan** memiliki **rata-rata tertinggi** pada sale price."
   ]
  },
  {
   "cell_type": "markdown",
   "metadata": {},
   "source": [
    "#### - Mean Residential Units, Commercial Units, Total Units, Land Square Feet, Gross Square Feet, Sale Price berdasarkan Borough"
   ]
  },
  {
   "cell_type": "code",
   "execution_count": 21,
   "metadata": {},
   "outputs": [
    {
     "data": {
      "text/html": [
       "<div>\n",
       "<style scoped>\n",
       "    .dataframe tbody tr th:only-of-type {\n",
       "        vertical-align: middle;\n",
       "    }\n",
       "\n",
       "    .dataframe tbody tr th {\n",
       "        vertical-align: top;\n",
       "    }\n",
       "\n",
       "    .dataframe thead th {\n",
       "        text-align: right;\n",
       "    }\n",
       "</style>\n",
       "<table border=\"1\" class=\"dataframe\">\n",
       "  <thead>\n",
       "    <tr style=\"text-align: right;\">\n",
       "      <th></th>\n",
       "      <th>RESIDENTIAL UNITS</th>\n",
       "      <th>COMMERCIAL UNITS</th>\n",
       "      <th>TOTAL UNITS</th>\n",
       "      <th>LAND SQUARE FEET</th>\n",
       "      <th>GROSS SQUARE FEET</th>\n",
       "      <th>SALE PRICE</th>\n",
       "    </tr>\n",
       "    <tr>\n",
       "      <th>BOROUGH</th>\n",
       "      <th></th>\n",
       "      <th></th>\n",
       "      <th></th>\n",
       "      <th></th>\n",
       "      <th></th>\n",
       "      <th></th>\n",
       "    </tr>\n",
       "  </thead>\n",
       "  <tbody>\n",
       "    <tr>\n",
       "      <th>Bronx</th>\n",
       "      <td>3.368106</td>\n",
       "      <td>0.162387</td>\n",
       "      <td>3.535600</td>\n",
       "      <td>3966.193901</td>\n",
       "      <td>4551.152466</td>\n",
       "      <td>6.061231e+05</td>\n",
       "    </tr>\n",
       "    <tr>\n",
       "      <th>Brooklyn</th>\n",
       "      <td>2.024239</td>\n",
       "      <td>0.147016</td>\n",
       "      <td>2.204600</td>\n",
       "      <td>2037.240039</td>\n",
       "      <td>2509.748205</td>\n",
       "      <td>8.550940e+05</td>\n",
       "    </tr>\n",
       "    <tr>\n",
       "      <th>Manhattan</th>\n",
       "      <td>18.437118</td>\n",
       "      <td>2.525641</td>\n",
       "      <td>20.957875</td>\n",
       "      <td>5316.097680</td>\n",
       "      <td>33860.451770</td>\n",
       "      <td>1.150410e+07</td>\n",
       "    </tr>\n",
       "    <tr>\n",
       "      <th>Queens</th>\n",
       "      <td>2.394804</td>\n",
       "      <td>0.295587</td>\n",
       "      <td>2.689625</td>\n",
       "      <td>4224.637247</td>\n",
       "      <td>3269.041654</td>\n",
       "      <td>7.599055e+05</td>\n",
       "    </tr>\n",
       "    <tr>\n",
       "      <th>Staten Island</th>\n",
       "      <td>1.358014</td>\n",
       "      <td>0.095784</td>\n",
       "      <td>1.452769</td>\n",
       "      <td>6246.211841</td>\n",
       "      <td>2308.320846</td>\n",
       "      <td>5.159248e+05</td>\n",
       "    </tr>\n",
       "  </tbody>\n",
       "</table>\n",
       "</div>"
      ],
      "text/plain": [
       "               RESIDENTIAL UNITS  COMMERCIAL UNITS  TOTAL UNITS  \\\n",
       "BOROUGH                                                           \n",
       "Bronx                   3.368106          0.162387     3.535600   \n",
       "Brooklyn                2.024239          0.147016     2.204600   \n",
       "Manhattan              18.437118          2.525641    20.957875   \n",
       "Queens                  2.394804          0.295587     2.689625   \n",
       "Staten Island           1.358014          0.095784     1.452769   \n",
       "\n",
       "               LAND SQUARE FEET  GROSS SQUARE FEET    SALE PRICE  \n",
       "BOROUGH                                                           \n",
       "Bronx               3966.193901        4551.152466  6.061231e+05  \n",
       "Brooklyn            2037.240039        2509.748205  8.550940e+05  \n",
       "Manhattan           5316.097680       33860.451770  1.150410e+07  \n",
       "Queens              4224.637247        3269.041654  7.599055e+05  \n",
       "Staten Island       6246.211841        2308.320846  5.159248e+05  "
      ]
     },
     "execution_count": 21,
     "metadata": {},
     "output_type": "execute_result"
    }
   ],
   "source": [
    "meann = df[['RESIDENTIAL UNITS', 'COMMERCIAL UNITS', 'TOTAL UNITS', 'LAND SQUARE FEET', 'GROSS SQUARE FEET', \n",
    "            'SALE PRICE','BOROUGH']].groupby('BOROUGH').mean()\n",
    "meann"
   ]
  },
  {
   "cell_type": "markdown",
   "metadata": {},
   "source": [
    "__Insight:__<br>\n",
    "Dari tabel di atas, dapat kita ketahui bahwa Manhattan memiliki rata-rata tertinggi di antara wilayah lainnya."
   ]
  },
  {
   "cell_type": "markdown",
   "metadata": {},
   "source": [
    "### b.) Median\n",
    "\n",
    "Median dari Sale Price pada setiap Borough\n"
   ]
  },
  {
   "cell_type": "code",
   "execution_count": 22,
   "metadata": {},
   "outputs": [
    {
     "data": {
      "text/html": [
       "<div>\n",
       "<style scoped>\n",
       "    .dataframe tbody tr th:only-of-type {\n",
       "        vertical-align: middle;\n",
       "    }\n",
       "\n",
       "    .dataframe tbody tr th {\n",
       "        vertical-align: top;\n",
       "    }\n",
       "\n",
       "    .dataframe thead th {\n",
       "        text-align: right;\n",
       "    }\n",
       "</style>\n",
       "<table border=\"1\" class=\"dataframe\">\n",
       "  <thead>\n",
       "    <tr style=\"text-align: right;\">\n",
       "      <th></th>\n",
       "      <th>SALE PRICE</th>\n",
       "    </tr>\n",
       "    <tr>\n",
       "      <th>BOROUGH</th>\n",
       "      <th></th>\n",
       "    </tr>\n",
       "  </thead>\n",
       "  <tbody>\n",
       "    <tr>\n",
       "      <th>Manhattan</th>\n",
       "      <td>1357500.0</td>\n",
       "    </tr>\n",
       "    <tr>\n",
       "      <th>Queens</th>\n",
       "      <td>480000.0</td>\n",
       "    </tr>\n",
       "    <tr>\n",
       "      <th>Staten Island</th>\n",
       "      <td>480000.0</td>\n",
       "    </tr>\n",
       "    <tr>\n",
       "      <th>Brooklyn</th>\n",
       "      <td>445000.0</td>\n",
       "    </tr>\n",
       "    <tr>\n",
       "      <th>Bronx</th>\n",
       "      <td>282500.0</td>\n",
       "    </tr>\n",
       "  </tbody>\n",
       "</table>\n",
       "</div>"
      ],
      "text/plain": [
       "               SALE PRICE\n",
       "BOROUGH                  \n",
       "Manhattan       1357500.0\n",
       "Queens           480000.0\n",
       "Staten Island    480000.0\n",
       "Brooklyn         445000.0\n",
       "Bronx            282500.0"
      ]
     },
     "execution_count": 22,
     "metadata": {},
     "output_type": "execute_result"
    }
   ],
   "source": [
    "median = df[['BOROUGH','SALE PRICE']].groupby('BOROUGH').median().sort_values(by='SALE PRICE', ascending=False)\n",
    "median"
   ]
  },
  {
   "cell_type": "markdown",
   "metadata": {},
   "source": [
    "__Insight:__<br>\n",
    "Dari tabel di atas, dapat kita ketahui bahwa Bronx memiliki median sale price terendah, Manhattan memiliki median tertinggi."
   ]
  },
  {
   "cell_type": "markdown",
   "metadata": {},
   "source": [
    "### c.) Modus\n",
    "\n",
    "Calculate TOTAL UNITS' mode of each BOROUGH"
   ]
  },
  {
   "cell_type": "code",
   "execution_count": 23,
   "metadata": {},
   "outputs": [
    {
     "data": {
      "text/html": [
       "<div>\n",
       "<style scoped>\n",
       "    .dataframe tbody tr th:only-of-type {\n",
       "        vertical-align: middle;\n",
       "    }\n",
       "\n",
       "    .dataframe tbody tr th {\n",
       "        vertical-align: top;\n",
       "    }\n",
       "\n",
       "    .dataframe thead th {\n",
       "        text-align: right;\n",
       "    }\n",
       "</style>\n",
       "<table border=\"1\" class=\"dataframe\">\n",
       "  <thead>\n",
       "    <tr style=\"text-align: right;\">\n",
       "      <th></th>\n",
       "      <th>BOROUGH</th>\n",
       "      <th>TOTAL UNITS</th>\n",
       "    </tr>\n",
       "  </thead>\n",
       "  <tbody>\n",
       "    <tr>\n",
       "      <th>0</th>\n",
       "      <td>Bronx</td>\n",
       "      <td>1</td>\n",
       "    </tr>\n",
       "    <tr>\n",
       "      <th>1</th>\n",
       "      <td>Brooklyn</td>\n",
       "      <td>1</td>\n",
       "    </tr>\n",
       "    <tr>\n",
       "      <th>2</th>\n",
       "      <td>Manhattan</td>\n",
       "      <td>1</td>\n",
       "    </tr>\n",
       "    <tr>\n",
       "      <th>3</th>\n",
       "      <td>Queens</td>\n",
       "      <td>1</td>\n",
       "    </tr>\n",
       "    <tr>\n",
       "      <th>4</th>\n",
       "      <td>Staten Island</td>\n",
       "      <td>1</td>\n",
       "    </tr>\n",
       "  </tbody>\n",
       "</table>\n",
       "</div>"
      ],
      "text/plain": [
       "         BOROUGH  TOTAL UNITS\n",
       "0          Bronx            1\n",
       "1       Brooklyn            1\n",
       "2      Manhattan            1\n",
       "3         Queens            1\n",
       "4  Staten Island            1"
      ]
     },
     "execution_count": 23,
     "metadata": {},
     "output_type": "execute_result"
    }
   ],
   "source": [
    "mode = df[['BOROUGH','TOTAL UNITS']].groupby(['BOROUGH']).apply(pd.DataFrame.mode).reset_index(drop=True)\n",
    "mode"
   ]
  },
  {
   "cell_type": "markdown",
   "metadata": {},
   "source": [
    "__Insight:__ <br>\n",
    "Dari tabel di atas, dapat kita ketahui bahwa pada semua kota sebagain besar memiliki total 1 unit."
   ]
  },
  {
   "cell_type": "markdown",
   "metadata": {},
   "source": [
    "----\n",
    "## 2. **Measure of Central Spread** (range, standard deviasi, variansi)\n",
    "----"
   ]
  },
  {
   "cell_type": "markdown",
   "metadata": {},
   "source": [
    "### a.) Range\n",
    "Selisih antara max SALE PRICE dengan min Sale Price setiap wilayah"
   ]
  },
  {
   "cell_type": "code",
   "execution_count": 24,
   "metadata": {},
   "outputs": [
    {
     "data": {
      "text/plain": [
       "BOROUGH\n",
       "Bronx            1.100000e+08\n",
       "Brooklyn         3.450000e+08\n",
       "Manhattan        2.210000e+09\n",
       "Queens           2.575000e+08\n",
       "Staten Island    1.190000e+07\n",
       "dtype: float64"
      ]
     },
     "execution_count": 24,
     "metadata": {},
     "output_type": "execute_result"
    }
   ],
   "source": [
    "range1 = df.groupby('BOROUGH').apply(lambda x: x['SALE PRICE'].max() - x['SALE PRICE'].min())\n",
    "range1"
   ]
  },
  {
   "cell_type": "markdown",
   "metadata": {},
   "source": [
    "__Insight :__ <br> \n",
    "Semua borough mempunyai jangkauan yang tidak jauh berbeda"
   ]
  },
  {
   "cell_type": "markdown",
   "metadata": {},
   "source": [
    "### b.) Standard Deviation\n",
    "Standar deviation dari kolom 'RESIDENTIAL UNITS', 'COMMERCIAL UNITS', 'TOTAL UNITS', 'LAND SQUARE FEET', 'GROSS SQUARE FEET','SALE PRICE'"
   ]
  },
  {
   "cell_type": "code",
   "execution_count": 25,
   "metadata": {},
   "outputs": [
    {
     "data": {
      "text/plain": [
       "RESIDENTIAL UNITS    1.939675e+01\n",
       "COMMERCIAL UNITS     1.021246e+01\n",
       "TOTAL UNITS          2.206922e+01\n",
       "LAND SQUARE FEET     3.435132e+04\n",
       "GROSS SQUARE FEET    3.487999e+04\n",
       "SALE PRICE           1.247130e+07\n",
       "dtype: float64"
      ]
     },
     "execution_count": 25,
     "metadata": {},
     "output_type": "execute_result"
    }
   ],
   "source": [
    "df[['RESIDENTIAL UNITS', 'COMMERCIAL UNITS', 'TOTAL UNITS', 'LAND SQUARE FEET', 'GROSS SQUARE FEET', \n",
    "            'SALE PRICE']].std()\n"
   ]
  },
  {
   "cell_type": "markdown",
   "metadata": {},
   "source": [
    "__Insight:__<br> \n",
    "Dari hasil di atas, kita mengetahui bahwa setiap kolom memiliki nilai standar deviasi  yang tidak terlalu tinggi, artinya data tidak memiliki sebaran yang besar"
   ]
  },
  {
   "cell_type": "markdown",
   "metadata": {},
   "source": [
    "### c.) Variansi\n",
    "Variasi dari kolom 'RESIDENTIAL UNITS', 'COMMERCIAL UNITS', 'TOTAL UNITS', 'LAND SQUARE FEET', 'GROSS SQUARE FEET','SALE PRICE'"
   ]
  },
  {
   "cell_type": "code",
   "execution_count": 26,
   "metadata": {},
   "outputs": [
    {
     "data": {
      "text/plain": [
       "RESIDENTIAL UNITS    3.762340e+02\n",
       "COMMERCIAL UNITS     1.042943e+02\n",
       "TOTAL UNITS          4.870504e+02\n",
       "LAND SQUARE FEET     1.180013e+09\n",
       "GROSS SQUARE FEET    1.216613e+09\n",
       "SALE PRICE           1.555332e+14\n",
       "dtype: float64"
      ]
     },
     "execution_count": 26,
     "metadata": {},
     "output_type": "execute_result"
    }
   ],
   "source": [
    "df[['RESIDENTIAL UNITS', 'COMMERCIAL UNITS', 'TOTAL UNITS', 'LAND SQUARE FEET', 'GROSS SQUARE FEET', \n",
    "            'SALE PRICE']].var()"
   ]
  },
  {
   "cell_type": "markdown",
   "metadata": {},
   "source": [
    "**Insight:**<br>\n",
    "Dari hasil di atas, kita mengetahui bahwa setiap kolom memiliki nilai varians  yang tidak terlalu tinggi, artinya data tidak memiliki sebaran yang besar"
   ]
  },
  {
   "cell_type": "markdown",
   "metadata": {},
   "source": [
    "-----\n",
    "## 3. **Probability Distribution** (Uniform Distribution, Normal Distribution, Gamma Distribution, Eksponensial Distribution, Poisson Distribution) pada kolom SALE PRICE\n",
    "----\n",
    "\n",
    "Probability distribution adalah fungsi di bawah teori dan statistik probabilitas yang memberi kita seberapa besar kemungkinan hasil yang berbeda dalam sebuah eksperimen.<br>\n",
    "Beberapa jenis probability distribution dan penggambarannya adalah sebagai berikut."
   ]
  },
  {
   "cell_type": "markdown",
   "metadata": {},
   "source": [
    "### a.) **Uniform Distribution**\n",
    "\n",
    "Adalah bentuk distribusi probabilitas di mana suatu peristiwa memiliki kemungkinan yang sama untuk terjadi dalam interval tertentu.<br>\n",
    "Rumus fungsi data berdistribusi uniform sebagai berikut. <br>\n",
    "    \n",
    "$f(x) = \\begin{cases}\n",
    "\\frac{1}{b-a}, \\hspace{0.4cm} a \\leq x \\leq b \\\\\n",
    "0, \\hspace{0.7cm} other.\n",
    "\\end{cases}$\n",
    "    \n",
    "dengan <br>\n",
    "$f(x)$ = Fungsi Kepadatan Probabilitas (FKP) <br>\n",
    "a = batas atas<br>\n",
    "b = batas bawah<br>\n",
    "    \n",
    "**Keterangan**<br>\n",
    "Untuk Uniform Distribution, gunakan **uniform.rvs(size= jumlah data, loc= mean, scale= standard deviasi)**"
   ]
  },
  {
   "cell_type": "code",
   "execution_count": 27,
   "metadata": {},
   "outputs": [
    {
     "name": "stderr",
     "output_type": "stream",
     "text": [
      "C:\\Users\\USER\\AppData\\Local\\Temp\\ipykernel_13124\\3540920622.py:3: UserWarning: \n",
      "\n",
      "`distplot` is a deprecated function and will be removed in seaborn v0.14.0.\n",
      "\n",
      "Please adapt your code to use either `displot` (a figure-level function with\n",
      "similar flexibility) or `histplot` (an axes-level function for histograms).\n",
      "\n",
      "For a guide to updating your code to use the new functions, please see\n",
      "https://gist.github.com/mwaskom/de44147ed2974457ad6372750bbe5751\n",
      "\n",
      "  sns.distplot(Tot_uniform,\n"
     ]
    },
    {
     "data": {
      "image/png": "[encoded data removed]",
      "text/plain": [
       "<Figure size 640x480 with 1 Axes>"
      ]
     },
     "metadata": {},
     "output_type": "display_data"
    }
   ],
   "source": [
    "from scipy.stats import uniform\n",
    "Tot_uniform = uniform.rvs(size=55664, loc = 1067301, scale=12471300)\n",
    "sns.distplot(Tot_uniform,\n",
    "             bins=1000)\n",
    "plt.xlabel('Uniform Distribution berdasarkan Sale Price')\n",
    "plt.ylabel('Frequency')\n",
    "plt.show()"
   ]
  },
  {
   "cell_type": "code",
   "execution_count": 28,
   "metadata": {},
   "outputs": [
    {
     "data": {
      "text/plain": [
       "Text(-3.6805555555555554, 0.5, 'Frequency')"
      ]
     },
     "execution_count": 28,
     "metadata": {},
     "output_type": "execute_result"
    },
    {
     "data": {
      "image/png": "[encoded data removed]",
      "text/plain": [
       "<Figure size 500x500 with 1 Axes>"
      ]
     },
     "metadata": {},
     "output_type": "display_data"
    }
   ],
   "source": [
    "Tot_uni = uniform.rvs(size=55664, loc = 1067301, scale=12471300)\n",
    "graph = seaborn.displot(Tot_uni)\n",
    "plt.xlabel('Uniform Distribution berdasarkan Sale Price')\n",
    "plt.ylabel('Frequency')"
   ]
  },
  {
   "cell_type": "markdown",
   "metadata": {},
   "source": [
    "------------------------------\n",
    "### b.) **Normal Distribution** <br> \n",
    "Normal Distribution, juga dikenal sebagai Gaussian distribution, ada di mana-mana dalam Data Science. Kita akan menemukannya di banyak tempat terutama dalam topik inferensi statistik.\n",
    "\n",
    "Rumus Normal Distribution adalah sebagai berikut. <br>\n",
    "\n",
    "$f(x) = \\frac{1}{\\sigma\\sqrt{2\\pi}}e^{-\\frac{(x-\\mu)^{2}}{2\\sigma^{2}}}$. <br>\n",
    "\n",
    "dengan <br>\n",
    "\n",
    "$f(x)$ = Fungsi Kepadatan Probabilitas (FKP) <br>\n",
    "$\\sigma $ = Standard deviasi <br>\n",
    "$\\mu$ = Mean <br>\n",
    "$\\pi$ = 3.141592... <br>\n",
    "$e$ = Natural number = 2.7182818...<br>\n",
    "$x$ = Nilai variabel\n",
    "\n",
    "**Keterangan**<br>\n",
    "Untuk Normal Distribution, gunakan **norm.rvs(size= jumlah data, loc= mean, scale= standard deviasi)**"
   ]
  },
  {
   "cell_type": "code",
   "execution_count": 29,
   "metadata": {},
   "outputs": [
    {
     "name": "stderr",
     "output_type": "stream",
     "text": [
      "C:\\Users\\USER\\AppData\\Local\\Temp\\ipykernel_13124\\180940845.py:5: UserWarning: \n",
      "\n",
      "`distplot` is a deprecated function and will be removed in seaborn v0.14.0.\n",
      "\n",
      "Please adapt your code to use either `displot` (a figure-level function with\n",
      "similar flexibility) or `histplot` (an axes-level function for histograms).\n",
      "\n",
      "For a guide to updating your code to use the new functions, please see\n",
      "https://gist.github.com/mwaskom/de44147ed2974457ad6372750bbe5751\n",
      "\n",
      "  sns.distplot(Tot_norm)\n"
     ]
    },
    {
     "data": {
      "text/plain": [
       "<Axes: xlabel='Normal Distribution berdasarkan Sale Price', ylabel='Frequency'>"
      ]
     },
     "execution_count": 29,
     "metadata": {},
     "output_type": "execute_result"
    },
    {
     "data": {
      "image/png": "[encoded data removed]",
      "text/plain": [
       "<Figure size 640x480 with 1 Axes>"
      ]
     },
     "metadata": {},
     "output_type": "display_data"
    }
   ],
   "source": [
    "from scipy.stats import norm\n",
    "Tot_norm = norm.rvs(size=55664, loc = 1067301, scale=12471300)\n",
    "plt.xlabel('Normal Distribution berdasarkan Sale Price')\n",
    "plt.ylabel('Frequency')\n",
    "sns.distplot(Tot_norm)"
   ]
  },
  {
   "cell_type": "code",
   "execution_count": 30,
   "metadata": {},
   "outputs": [
    {
     "data": {
      "text/plain": [
       "Text(-3.8055555555555554, 0.5, 'Frequency')"
      ]
     },
     "execution_count": 30,
     "metadata": {},
     "output_type": "execute_result"
    },
    {
     "data": {
      "image/png": "[encoded data removed]",
      "text/plain": [
       "<Figure size 500x500 with 1 Axes>"
      ]
     },
     "metadata": {},
     "output_type": "display_data"
    }
   ],
   "source": [
    "Tot_nor = norm.rvs(size=55664, loc = 1067301, scale=12471300)\n",
    "graph = seaborn.displot(Tot_nor)\n",
    "plt.xlabel('Normal Distribution berdasarkan Sale Price')\n",
    "plt.ylabel('Frequency')"
   ]
  },
  {
   "cell_type": "markdown",
   "metadata": {},
   "source": [
    "------------------------------\n",
    "### c.) **Gamma Distribution** <br>\n",
    "Gamma distribution adalah two-parameter family dari continuous probability distributions. Meskipun jarang digunakan dalam bentuk mentahnya tetapi distribusi lain yang populer digunakan seperti exponential, chi-squared, erlang distributions adalah kasus khusus dari distribusi gamma.\n",
    "\n",
    "Rumus Gamma Distribution adalah sebagai berikut. <br>\n",
    "   \n",
    "$ f(x;\\beta;\\alpha) = \\left\\{ \\begin{array}{cl}\n",
    "\\frac{x^{\\alpha-1}}{\\beta^{\\alpha}\\Gamma(\\alpha)}e^{-\\frac{x}{\\beta}}  & ; x>0 \\\\\n",
    "\\ 0 & ; x~lainnya\n",
    "\\end{array} \\right. $. <br>\n",
    "\n",
    "dengan <br>\n",
    "$f(x;\\beta;\\alpha)$ = Fungsi Kepadatan Probabilitas (FKP) <br>\n",
    "$\\sigma = \\beta \\sqrt{\\alpha} $ <br>\n",
    "$\\mu = \\beta \\alpha $ <br>\n",
    "$\\Gamma(\\alpha) = (\\alpha-1)!$ <br>\n",
    "$e$ = Natural number = 2.7182818...<br>\n",
    "$x$ = Nilai variabel <br>\n",
    "    \n",
    "**Keterangan**<br>\n",
    "    Untuk Gamma Distribution, gunakan **gamma.rvs(size= jumlah data, a = 5)** <br>\n",
    "    Diambil a = 5 sebagai puncak distribusi. <br>\n",
    "    Perhatikan bahwa $\\Gamma(a) = (a-1)!$ merupakan fungsi gamma sehingga apabila a = 1, akan menghasilkan fungsi berdistribusi eksponensial."
   ]
  },
  {
   "cell_type": "code",
   "execution_count": 31,
   "metadata": {},
   "outputs": [
    {
     "name": "stderr",
     "output_type": "stream",
     "text": [
      "C:\\Users\\USER\\AppData\\Local\\Temp\\ipykernel_13124\\2123381672.py:6: UserWarning: \n",
      "\n",
      "`distplot` is a deprecated function and will be removed in seaborn v0.14.0.\n",
      "\n",
      "Please adapt your code to use either `displot` (a figure-level function with\n",
      "similar flexibility) or `histplot` (an axes-level function for histograms).\n",
      "\n",
      "For a guide to updating your code to use the new functions, please see\n",
      "https://gist.github.com/mwaskom/de44147ed2974457ad6372750bbe5751\n",
      "\n",
      "  sns.distplot(Tot_gam)\n"
     ]
    },
    {
     "data": {
      "text/plain": [
       "<Axes: xlabel='Gamma Distribution berdasarkan Sale Price', ylabel='Frequency'>"
      ]
     },
     "execution_count": 31,
     "metadata": {},
     "output_type": "execute_result"
    },
    {
     "data": {
      "image/png": "[encoded data removed]",
      "text/plain": [
       "<Figure size 640x480 with 1 Axes>"
      ]
     },
     "metadata": {},
     "output_type": "display_data"
    }
   ],
   "source": [
    "from scipy.stats import gamma\n",
    "\n",
    "Tot_gam = gamma.rvs(size=55664,a=5)\n",
    "plt.xlabel('Gamma Distribution berdasarkan Sale Price')\n",
    "plt.ylabel('Frequency')\n",
    "sns.distplot(Tot_gam)"
   ]
  },
  {
   "cell_type": "code",
   "execution_count": 32,
   "metadata": {},
   "outputs": [
    {
     "data": {
      "text/plain": [
       "Text(-3.8055555555555554, 0.5, 'Frequency')"
      ]
     },
     "execution_count": 32,
     "metadata": {},
     "output_type": "execute_result"
    },
    {
     "data": {
      "image/png": "[encoded data removed]",
      "text/plain": [
       "<Figure size 500x500 with 1 Axes>"
      ]
     },
     "metadata": {},
     "output_type": "display_data"
    }
   ],
   "source": [
    "Tot_gamma = gamma.rvs(size=55664,a=5)\n",
    "graph = seaborn.displot(Tot_gamma)\n",
    "plt.xlabel('Gamma Distribution berdasarkan Sale Price')\n",
    "plt.ylabel('Frequency')"
   ]
  },
  {
   "cell_type": "markdown",
   "metadata": {},
   "source": [
    "---------------------------------\n",
    "### d.) **Exponential Distribution** <br>\n",
    "Exponential distribution menggambarkan waktu antara peristiwa dalam Poisson point process, yaitu proses di mana peristiwa terjadi terus menerus dan independen pada tingkat rata-rata yang konstan.\n",
    "\n",
    "Rumus Exponential Distribution adalah sebagai berikut. <br>\n",
    "\n",
    "$ f(x;\\lambda) = \\left\\{ \\begin{array}{cl}\n",
    "\\lambda e^{-\\lambda x}  & ; x\\ge 0 \\\\\n",
    "\\ 0 & ; x \\lt 0\n",
    "\\end{array} \\right. $ <br>\n",
    "   \n",
    "dengan <br>\n",
    "\n",
    "$f(x)$ = Fungsi Kepadatan Probabilitas (FKP) <br>\n",
    "$\\lambda$ = Rate parameter <br>\n",
    "$x$ = Nilai variabel <br>\n",
    "$e$ = Natural number = 2.7182818...<br>\n",
    "  \n",
    "  \n",
    "**Keterangan** <br>\n",
    "Untuk Exponential Distribution, gunakan **expon.rvs(size = jumlah data, loc = mean, scale = standard deviasi)**"
   ]
  },
  {
   "cell_type": "code",
   "execution_count": 33,
   "metadata": {},
   "outputs": [],
   "source": [
    "from scipy.stats import expon"
   ]
  },
  {
   "cell_type": "code",
   "execution_count": 34,
   "metadata": {},
   "outputs": [
    {
     "name": "stderr",
     "output_type": "stream",
     "text": [
      "C:\\Users\\USER\\AppData\\Local\\Temp\\ipykernel_13124\\63933053.py:4: UserWarning: \n",
      "\n",
      "`distplot` is a deprecated function and will be removed in seaborn v0.14.0.\n",
      "\n",
      "Please adapt your code to use either `displot` (a figure-level function with\n",
      "similar flexibility) or `histplot` (an axes-level function for histograms).\n",
      "\n",
      "For a guide to updating your code to use the new functions, please see\n",
      "https://gist.github.com/mwaskom/de44147ed2974457ad6372750bbe5751\n",
      "\n",
      "  sns.distplot(Tot_expon)\n"
     ]
    },
    {
     "data": {
      "text/plain": [
       "<Axes: xlabel='Exponential Distribution berdasarkan Sale Price', ylabel='Frequency'>"
      ]
     },
     "execution_count": 34,
     "metadata": {},
     "output_type": "execute_result"
    },
    {
     "data": {
      "image/png": "[encoded data removed]",
      "text/plain": [
       "<Figure size 640x480 with 1 Axes>"
      ]
     },
     "metadata": {},
     "output_type": "display_data"
    }
   ],
   "source": [
    "Tot_expon= expon.rvs(size = 55664, loc = 1067301, scale = 12471300)\n",
    "plt.xlabel('Exponential Distribution berdasarkan Sale Price')\n",
    "plt.ylabel('Frequency')\n",
    "sns.distplot(Tot_expon)"
   ]
  },
  {
   "cell_type": "code",
   "execution_count": 35,
   "metadata": {},
   "outputs": [
    {
     "data": {
      "text/plain": [
       "Text(-3.6805555555555554, 0.5, 'Frequency')"
      ]
     },
     "execution_count": 35,
     "metadata": {},
     "output_type": "execute_result"
    },
    {
     "data": {
      "image/png": "[encoded data removed]",
      "text/plain": [
       "<Figure size 500x500 with 1 Axes>"
      ]
     },
     "metadata": {},
     "output_type": "display_data"
    }
   ],
   "source": [
    "Tot_exp = expon.rvs(size = 55664, loc = 1067301, scale = 12471300)\n",
    "graph = seaborn.displot(Tot_exp)\n",
    "plt.xlabel('Exponential Distribution berdasarkan Sale Price')\n",
    "plt.ylabel('Frequency')"
   ]
  },
  {
   "cell_type": "markdown",
   "metadata": {},
   "source": [
    "---------------------------------------------\n",
    "### e.) **Poisson Distribution** <br>\n",
    "Poisson Distribution merupakan suatu discrete probability distribution yang memenuhi kriteria berikut:\n",
    "1) Random variable x merepresentasikan banyaknya kemunculan suatu event dalam interval waktu tertentu.\n",
    "2) Nilai probability untuk kemunculan event adalah sama untuk setiap interval.\n",
    "3) Jumlah kemunculan event pada suatu interval adalah independent terhadap jumlah kemunculan event pada interval lainnya.\n",
    "\n",
    "Rumus Poisson DistributioN adalah sebagai berikut. <br>\n",
    "$p(x) = P(X=x) = \\frac{e^{-\\lambda}\\lambda^{x}}{x!}$ <br> \n",
    "dengan :<br>\n",
    "X = 0,1,2... <br>\n",
    "$\\mu = \\lambda$ <br>\n",
    "$\\sigma = \\sqrt{\\lambda}$\n",
    "    \n",
    "**Keterangan**<br>\n",
    "Untuk Poisson Distribution, gunakan **poisson.rvs(size = jumlah data, mu = standard deviasi)**"
   ]
  },
  {
   "cell_type": "code",
   "execution_count": 36,
   "metadata": {},
   "outputs": [
    {
     "name": "stderr",
     "output_type": "stream",
     "text": [
      "C:\\Users\\USER\\AppData\\Local\\Temp\\ipykernel_13124\\2911409478.py:5: UserWarning: \n",
      "\n",
      "`distplot` is a deprecated function and will be removed in seaborn v0.14.0.\n",
      "\n",
      "Please adapt your code to use either `displot` (a figure-level function with\n",
      "similar flexibility) or `histplot` (an axes-level function for histograms).\n",
      "\n",
      "For a guide to updating your code to use the new functions, please see\n",
      "https://gist.github.com/mwaskom/de44147ed2974457ad6372750bbe5751\n",
      "\n",
      "  sns.distplot(Tot_pois)\n"
     ]
    },
    {
     "data": {
      "text/plain": [
       "<Axes: xlabel='Poisson Distribution berdasarkan Sale Price', ylabel='Frequency'>"
      ]
     },
     "execution_count": 36,
     "metadata": {},
     "output_type": "execute_result"
    },
    {
     "data": {
      "image/png": "[encoded data removed]",
      "text/plain": [
       "<Figure size 640x480 with 1 Axes>"
      ]
     },
     "metadata": {},
     "output_type": "display_data"
    }
   ],
   "source": [
    "from scipy.stats import poisson\n",
    "Tot_pois = poisson.rvs(size=55664,mu=450)\n",
    "plt.xlabel('Poisson Distribution berdasarkan Sale Price')\n",
    "plt.ylabel('Frequency')\n",
    "sns.distplot(Tot_pois)"
   ]
  },
  {
   "cell_type": "code",
   "execution_count": 37,
   "metadata": {},
   "outputs": [
    {
     "data": {
      "text/plain": [
       "Text(-3.6805555555555554, 0.5, 'Frequency')"
      ]
     },
     "execution_count": 37,
     "metadata": {},
     "output_type": "execute_result"
    },
    {
     "data": {
      "image/png": "[encoded data removed]",
      "text/plain": [
       "<Figure size 500x500 with 1 Axes>"
      ]
     },
     "metadata": {},
     "output_type": "display_data"
    }
   ],
   "source": [
    "Tot_po = poisson.rvs(size=55664,mu=450)\n",
    "graph = seaborn.displot(Tot_po)\n",
    "plt.xlabel('Poisson Distribution berdasarkan Sale Price')\n",
    "plt.ylabel('Frequency')"
   ]
  },
  {
   "cell_type": "markdown",
   "metadata": {},
   "source": [
    "### **Kesimpulan**\n",
    "1. **Uniform Distribution** <br>\n",
    "    uniform.rvs(size=55664, loc = 1067301, scale=12471300) <br>\n",
    "    Memiliki grafik seperti gambar diatas. <br>\n",
    "    \n",
    "    \n",
    "2. **Normal Distribution** <br>\n",
    "    norm.rvs(size=55664, loc = 1067301, scale=12471300) <br>\n",
    "    Memiliki grafik seperti gambar diatas.<br>\n",
    " \n",
    " \n",
    "3. **Gamma Distribution** <br> \n",
    "    gamma.rvs(size=55664,a=5) <br>\n",
    "    Memiliki grafik seperti gambar diatas<br>\n",
    "\n",
    "\n",
    "4. **Eksponensial Distribution** <br>\n",
    "    expon.rvs(size = 55664, loc = 1067301, scale = 12471300) <br>\n",
    "    Memiliki grafik seperti gambar diatas.<br>\n",
    " \n",
    " \n",
    "5. **Poisson Distribution** <br>\n",
    "    poisson.rvs(size=55664,mu=450) <br>\n",
    "    Memiliki grafik seperti gambar diatas."
   ]
  },
  {
   "cell_type": "markdown",
   "metadata": {},
   "source": [
    "-----\n",
    "##  4. **Binomial dan Bernoulli** Distribution pada kolom building class category : TWO FAMILY DWELLINGS        \n",
    "----"
   ]
  },
  {
   "cell_type": "markdown",
   "metadata": {},
   "source": [
    "### a) **Binomial Distribution** <br>\n",
    "Distribusi di mana hanya dua hasil yang mungkin, seperti sukses atau gagal, untung atau rugi, menang atau kalah dan di mana probabilitas keberhasilan dan kegagalan sama untuk semua percobaan disebut Binomial Distribution. \n",
    "\n",
    "Rumus peluang data berdistribusi binomial sebagai berikut. <br>\n",
    "\n",
    "$f(x) = \\frac{n!}{(n-x)!}p^{x}q^{n-x}$ <br>\n",
    "<br>\n",
    "dengan <br>\n",
    "n = jumlah percobaan <br>\n",
    "p = peluang sukses <br>\n",
    "q = peluang gagal <br>\n",
    "n = jumlah data yang dipilih <br>\n",
    "x = total data keseluruhan\n",
    "\n",
    "Pada kasus ini, saya menggunakan <br>\n",
    "n = BUILDING CLASS CATEGORY (TWO FAMILY DWELLINGS)"
   ]
  },
  {
   "cell_type": "code",
   "execution_count": 38,
   "metadata": {},
   "outputs": [
    {
     "data": {
      "text/plain": [
       "BUILDING CLASS CATEGORY\n",
       "01 ONE FAMILY DWELLINGS                        17963\n",
       "02 TWO FAMILY DWELLINGS                        15588\n",
       "03 THREE FAMILY DWELLINGS                       4312\n",
       "07 RENTALS - WALKUP APARTMENTS                  3311\n",
       "10 COOPS - ELEVATOR APARTMENTS                  3162\n",
       "Name: count, dtype: int64"
      ]
     },
     "execution_count": 38,
     "metadata": {},
     "output_type": "execute_result"
    }
   ],
   "source": [
    "df['BUILDING CLASS CATEGORY'].value_counts().head()"
   ]
  },
  {
   "cell_type": "markdown",
   "metadata": {},
   "source": [
    "\n",
    "Menghitung nilai $ p = \\frac{n}{x} $, dimana\n",
    "\n",
    "    n = TWO FAMILY DWELLINGSS = 15588\n",
    "    x = total data = 55664"
   ]
  },
  {
   "cell_type": "code",
   "execution_count": 39,
   "metadata": {},
   "outputs": [
    {
     "data": {
      "text/plain": [
       "0.28003736705949983"
      ]
     },
     "execution_count": 39,
     "metadata": {},
     "output_type": "execute_result"
    }
   ],
   "source": [
    "P = 15588/55664\n",
    "P"
   ]
  },
  {
   "cell_type": "code",
   "execution_count": 40,
   "metadata": {},
   "outputs": [
    {
     "data": {
      "text/plain": [
       "0.7199626329405002"
      ]
     },
     "execution_count": 40,
     "metadata": {},
     "output_type": "execute_result"
    }
   ],
   "source": [
    "Q = 1 - P\n",
    "Q "
   ]
  },
  {
   "cell_type": "markdown",
   "metadata": {},
   "source": [
    "Membuat grafik binomial distribution <br>\n",
    "**binom.rvs(n = jumlah data yang dipilih, p = nilai p, size = total data)**"
   ]
  },
  {
   "cell_type": "code",
   "execution_count": 41,
   "metadata": {},
   "outputs": [
    {
     "name": "stderr",
     "output_type": "stream",
     "text": [
      "C:\\Users\\USER\\AppData\\Local\\Temp\\ipykernel_13124\\707331251.py:5: UserWarning: \n",
      "\n",
      "`distplot` is a deprecated function and will be removed in seaborn v0.14.0.\n",
      "\n",
      "Please adapt your code to use either `displot` (a figure-level function with\n",
      "similar flexibility) or `histplot` (an axes-level function for histograms).\n",
      "\n",
      "For a guide to updating your code to use the new functions, please see\n",
      "https://gist.github.com/mwaskom/de44147ed2974457ad6372750bbe5751\n",
      "\n",
      "  sns.distplot(FD_binom)\n"
     ]
    },
    {
     "data": {
      "text/plain": [
       "<Axes: xlabel='Binomial Distribution BUILDING CLASS CATEGORY (TWO FAMILY DWELLINGS)', ylabel='Frequency'>"
      ]
     },
     "execution_count": 41,
     "metadata": {},
     "output_type": "execute_result"
    },
    {
     "data": {
      "image/png": "[encoded data removed]",
      "text/plain": [
       "<Figure size 640x480 with 1 Axes>"
      ]
     },
     "metadata": {},
     "output_type": "display_data"
    }
   ],
   "source": [
    "from scipy.stats import binom\n",
    "FD_binom = binom.rvs(n = 15588,p=0.28003736705949983, size=55664)\n",
    "plt.xlabel('Binomial Distribution BUILDING CLASS CATEGORY (TWO FAMILY DWELLINGS)')\n",
    "plt.ylabel('Frequency')\n",
    "sns.distplot(FD_binom)"
   ]
  },
  {
   "cell_type": "code",
   "execution_count": 42,
   "metadata": {},
   "outputs": [
    {
     "data": {
      "text/plain": [
       "Text(-3.8055555555555554, 0.5, 'Frequency')"
      ]
     },
     "execution_count": 42,
     "metadata": {},
     "output_type": "execute_result"
    },
    {
     "data": {
      "image/png": "[encoded data removed]",
      "text/plain": [
       "<Figure size 500x500 with 1 Axes>"
      ]
     },
     "metadata": {},
     "output_type": "display_data"
    }
   ],
   "source": [
    "FD_Binom = binom.rvs(n = 15588,p=0.28003736705949983, size=55664)\n",
    "graph = seaborn.displot(FD_Binom)\n",
    "plt.xlabel('Binomial Distribution BUILDING CLASS CATEGORY (TWO FAMILY DWELLINGS)')\n",
    "plt.ylabel('Frequency')"
   ]
  },
  {
   "cell_type": "markdown",
   "metadata": {},
   "source": [
    "**Kesimpulan : Binomial Distribution**\n",
    "\n",
    "|Nilai n|Nilai x|Nilai P|Nilai Q|\n",
    "|:------|:------|:------|:------|\n",
    "|15588|55664|0.28003736705949983|0.7199626329405002|\n",
    "    \n",
    "Ket : <br>\n",
    "n : total BUILDING CLASS CATEGORY (TWO FAMILY DWELLINGS) <br>\n",
    "y : total data keseluruhan"
   ]
  },
  {
   "cell_type": "markdown",
   "metadata": {},
   "source": [
    "---\n",
    "\n",
    "### **b) Bernoulli Distribution** <br>\n",
    "Bernoulli distribution hanya memiliki dua kemungkinan hasil, yaitu berhasil (1) dan gagal (0).\n",
    "    \n",
    "Rumus Bernoulli Distribution <br>\n",
    "$f(k;p)=pk+(1-p)(1-k)$ <br>\n",
    "dengan <br>\n",
    "p\t=\tprobability <br>\n",
    "k\t=\tpossible outcomes <br>\n",
    "f\t=\tprobability mass function\n",
    "\n",
    "Pada Bernoulli distribution, saya menggunakan data yang sama dengan Binomial Distribution. <br>\n",
    "$ p = \\frac {n}{x} $ <br>\n",
    "\n",
    "$ p = \\frac {15588}{55664} $ <br>\n",
    "\n",
    "$ p = 0.28003736705949983 $\n",
    "\n",
    "Membuat grafik bernoulli distribution <br>\n",
    "**bernoulli.rvs(size = total data, p = nilai p)**"
   ]
  },
  {
   "cell_type": "code",
   "execution_count": 43,
   "metadata": {},
   "outputs": [
    {
     "name": "stderr",
     "output_type": "stream",
     "text": [
      "C:\\Users\\USER\\AppData\\Local\\Temp\\ipykernel_13124\\3483442592.py:5: UserWarning: \n",
      "\n",
      "`distplot` is a deprecated function and will be removed in seaborn v0.14.0.\n",
      "\n",
      "Please adapt your code to use either `displot` (a figure-level function with\n",
      "similar flexibility) or `histplot` (an axes-level function for histograms).\n",
      "\n",
      "For a guide to updating your code to use the new functions, please see\n",
      "https://gist.github.com/mwaskom/de44147ed2974457ad6372750bbe5751\n",
      "\n",
      "  sns.distplot(FD_Berno)\n"
     ]
    },
    {
     "data": {
      "text/plain": [
       "<Axes: xlabel='Bernoulli Distribution BUILDING CLASS CATEGORY (TWO FAMILY DWELLINGS)', ylabel='Density'>"
      ]
     },
     "execution_count": 43,
     "metadata": {},
     "output_type": "execute_result"
    },
    {
     "data": {
      "image/png": "[encoded data removed]",
      "text/plain": [
       "<Figure size 640x480 with 1 Axes>"
      ]
     },
     "metadata": {},
     "output_type": "display_data"
    }
   ],
   "source": [
    "from scipy.stats import bernoulli\n",
    "FD_Berno = bernoulli.rvs(size=55664,p=0.28003736705949983)\n",
    "plt.xlabel('Bernoulli Distribution BUILDING CLASS CATEGORY (TWO FAMILY DWELLINGS)')\n",
    "plt.ylabel('Density')\n",
    "sns.distplot(FD_Berno)"
   ]
  },
  {
   "cell_type": "code",
   "execution_count": 44,
   "metadata": {},
   "outputs": [
    {
     "data": {
      "text/plain": [
       "Text(-12.430555555555555, 0.5, 'Density')"
      ]
     },
     "execution_count": 44,
     "metadata": {},
     "output_type": "execute_result"
    },
    {
     "data": {
      "image/png": "[encoded data removed]",
      "text/plain": [
       "<Figure size 500x500 with 1 Axes>"
      ]
     },
     "metadata": {},
     "output_type": "display_data"
    }
   ],
   "source": [
    "FD_Berno = bernoulli.rvs(size=55664,p=0.28003736705949983)\n",
    "graph = seaborn.displot(FD_Berno)\n",
    "plt.xlabel('Bernoulli Distribution BUILDING CLASS CATEGORY (TWO FAMILY DWELLINGS)')\n",
    "plt.ylabel('Density')"
   ]
  },
  {
   "cell_type": "markdown",
   "metadata": {},
   "source": [
    "**Kesimpulan : Bernoulli Distribution**\n",
    "\n",
    "|Nilai n|Nilai x|Nilai P|Nilai Q|\n",
    "|:------|:------|:------|:------|\n",
    "|15588|55664|0.28003736705949983|0.7199626329405002|\n",
    "    \n",
    "Ket : <br>\n",
    "n : total BUILDING CLASS CATEGORY (TWO FAMILY DWELLINGS) <br>\n",
    "y : total data keseluruhan"
   ]
  },
  {
   "cell_type": "markdown",
   "metadata": {},
   "source": [
    "-----\n",
    "## 5. **Confidence Interval**\n",
    "---\n",
    "\n",
    "Confidence interval = $\\mu \\pm (z_{score} * se)$ <br>\n",
    "se = $\\frac{\\sigma}{\\sqrt{n}}$. <br>\n",
    "\n",
    "Berikut parameter-parameter yang digunakan.\n",
    "- $\\mu$ = rata-rata \n",
    "- $z_{score}$ = nilai z\n",
    "- se = standar error for mean\n",
    "- $\\sigma$ = standard deviasi\n",
    "- $n$ = jumlah keseluruhan data \n",
    "\n",
    "\n",
    "### Confidence Interval for mean\n",
    "Akan ditunjukkan confidence interval for mean berdasarkan data wilayah Manhattan dan Sale Price."
   ]
  },
  {
   "cell_type": "code",
   "execution_count": 45,
   "metadata": {},
   "outputs": [
    {
     "name": "stderr",
     "output_type": "stream",
     "text": [
      "C:\\Users\\USER\\AppData\\Local\\Temp\\ipykernel_13124\\1317625583.py:1: FutureWarning: The provided callable <function mean at 0x000002C9ADEFD8A0> is currently using SeriesGroupBy.mean. In a future version of pandas, the provided callable will be used directly. To keep current behavior pass the string \"mean\" instead.\n",
      "  df.groupby(\"BOROUGH\").agg({\"SALE PRICE\": [np.mean, np.std, np.size]})\n",
      "C:\\Users\\USER\\AppData\\Local\\Temp\\ipykernel_13124\\1317625583.py:1: FutureWarning: The provided callable <function std at 0x000002C9ADEFDA80> is currently using SeriesGroupBy.std. In a future version of pandas, the provided callable will be used directly. To keep current behavior pass the string \"std\" instead.\n",
      "  df.groupby(\"BOROUGH\").agg({\"SALE PRICE\": [np.mean, np.std, np.size]})\n"
     ]
    },
    {
     "data": {
      "text/html": [
       "<div>\n",
       "<style scoped>\n",
       "    .dataframe tbody tr th:only-of-type {\n",
       "        vertical-align: middle;\n",
       "    }\n",
       "\n",
       "    .dataframe tbody tr th {\n",
       "        vertical-align: top;\n",
       "    }\n",
       "\n",
       "    .dataframe thead tr th {\n",
       "        text-align: left;\n",
       "    }\n",
       "\n",
       "    .dataframe thead tr:last-of-type th {\n",
       "        text-align: right;\n",
       "    }\n",
       "</style>\n",
       "<table border=\"1\" class=\"dataframe\">\n",
       "  <thead>\n",
       "    <tr>\n",
       "      <th></th>\n",
       "      <th colspan=\"3\" halign=\"left\">SALE PRICE</th>\n",
       "    </tr>\n",
       "    <tr>\n",
       "      <th></th>\n",
       "      <th>mean</th>\n",
       "      <th>std</th>\n",
       "      <th>size</th>\n",
       "    </tr>\n",
       "    <tr>\n",
       "      <th>BOROUGH</th>\n",
       "      <th></th>\n",
       "      <th></th>\n",
       "      <th></th>\n",
       "    </tr>\n",
       "  </thead>\n",
       "  <tbody>\n",
       "    <tr>\n",
       "      <th>Bronx</th>\n",
       "      <td>6.061231e+05</td>\n",
       "      <td>2.820688e+06</td>\n",
       "      <td>6854</td>\n",
       "    </tr>\n",
       "    <tr>\n",
       "      <th>Brooklyn</th>\n",
       "      <td>8.550940e+05</td>\n",
       "      <td>3.988295e+06</td>\n",
       "      <td>23392</td>\n",
       "    </tr>\n",
       "    <tr>\n",
       "      <th>Manhattan</th>\n",
       "      <td>1.150410e+07</td>\n",
       "      <td>6.943386e+07</td>\n",
       "      <td>1638</td>\n",
       "    </tr>\n",
       "    <tr>\n",
       "      <th>Queens</th>\n",
       "      <td>7.599055e+05</td>\n",
       "      <td>3.002701e+06</td>\n",
       "      <td>16973</td>\n",
       "    </tr>\n",
       "    <tr>\n",
       "      <th>Staten Island</th>\n",
       "      <td>5.159248e+05</td>\n",
       "      <td>4.103279e+05</td>\n",
       "      <td>6807</td>\n",
       "    </tr>\n",
       "  </tbody>\n",
       "</table>\n",
       "</div>"
      ],
      "text/plain": [
       "                 SALE PRICE                     \n",
       "                       mean           std   size\n",
       "BOROUGH                                         \n",
       "Bronx          6.061231e+05  2.820688e+06   6854\n",
       "Brooklyn       8.550940e+05  3.988295e+06  23392\n",
       "Manhattan      1.150410e+07  6.943386e+07   1638\n",
       "Queens         7.599055e+05  3.002701e+06  16973\n",
       "Staten Island  5.159248e+05  4.103279e+05   6807"
      ]
     },
     "execution_count": 45,
     "metadata": {},
     "output_type": "execute_result"
    }
   ],
   "source": [
    "df.groupby(\"BOROUGH\").agg({\"SALE PRICE\": [np.mean, np.std, np.size]})"
   ]
  },
  {
   "cell_type": "code",
   "execution_count": 46,
   "metadata": {},
   "outputs": [],
   "source": [
    "# Calculate formula for CI\n",
    "Manhattan_mean = 1.150410e+07\n",
    "Manhattan_sd = 6.943386e+07        \n",
    "Manhattan_n = 1638          \n",
    "z = 1.96"
   ]
  },
  {
   "cell_type": "code",
   "execution_count": 47,
   "metadata": {},
   "outputs": [
    {
     "name": "stdout",
     "output_type": "stream",
     "text": [
      "Diperoleh nilai standar error for mean =  1715593.3759380856\n"
     ]
    }
   ],
   "source": [
    "# menghitung standar error for mean\n",
    "se = Manhattan_sd / np.sqrt(Manhattan_n)\n",
    "print('Diperoleh nilai standar error for mean = ', se) "
   ]
  },
  {
   "cell_type": "code",
   "execution_count": 48,
   "metadata": {},
   "outputs": [
    {
     "name": "stdout",
     "output_type": "stream",
     "text": [
      "Diperoleh lower limit of the CI =  8141536.983161353\n",
      "Diperoleh upper limit of the CI = 14866663.016838647\n"
     ]
    }
   ],
   "source": [
    "print('Diperoleh lower limit of the CI = ', Manhattan_mean - z * se)\n",
    "print('Diperoleh upper limit of the CI =', Manhattan_mean + z * se)"
   ]
  },
  {
   "cell_type": "markdown",
   "metadata": {},
   "source": [
    "**Kesimpulan**\n",
    "\n",
    "Berdasarkan perhitungan diatas, diperoleh hasil sebagai berikut. <br>\n",
    "Confidence interval for mean = $\\mu \\pm (z_{score} * se)$ \n",
    "- $\\mu - (z_{score} * se) = 8141536.983 \\approx 8141537$\n",
    "- $\\mu + (z_{score} * se) = 14866663.016 \\approx 14866663$"
   ]
  },
  {
   "cell_type": "markdown",
   "metadata": {},
   "source": [
    "----\n",
    "## 6. Hypothesis Testing\n",
    "----"
   ]
  },
  {
   "cell_type": "markdown",
   "metadata": {},
   "source": [
    "Hypothesis Testing (Difference in Population Means):\n",
    "#### **Apakah rata-rata Gross Square Feet di Queens lebih tinggi secara signifikan daripada rata-rata Gross Square di Brooklyn?**"
   ]
  },
  {
   "cell_type": "markdown",
   "metadata": {},
   "source": [
    "$μ_1$ : Rata-rata commercial units di Manhattan <br>\n",
    "$μ_2$ : Rata-rata commercial units di Staten Island <br>\n",
    "\n",
    "\n",
    "Null Hypothesis $(H_0)$ : $μ_1=μ_2$ <br>\n",
    "Alternative Hypothesis $(H_1)$ : $μ_1≠μ_2$"
   ]
  },
  {
   "cell_type": "code",
   "execution_count": 49,
   "metadata": {},
   "outputs": [
    {
     "data": {
      "text/html": [
       "<div>\n",
       "<style scoped>\n",
       "    .dataframe tbody tr th:only-of-type {\n",
       "        vertical-align: middle;\n",
       "    }\n",
       "\n",
       "    .dataframe tbody tr th {\n",
       "        vertical-align: top;\n",
       "    }\n",
       "\n",
       "    .dataframe thead th {\n",
       "        text-align: right;\n",
       "    }\n",
       "</style>\n",
       "<table border=\"1\" class=\"dataframe\">\n",
       "  <thead>\n",
       "    <tr style=\"text-align: right;\">\n",
       "      <th></th>\n",
       "      <th>BOROUGH</th>\n",
       "      <th>NEIGHBORHOOD</th>\n",
       "      <th>BUILDING CLASS CATEGORY</th>\n",
       "      <th>TAX CLASS AT PRESENT</th>\n",
       "      <th>RESIDENTIAL UNITS</th>\n",
       "      <th>COMMERCIAL UNITS</th>\n",
       "      <th>TOTAL UNITS</th>\n",
       "      <th>LAND SQUARE FEET</th>\n",
       "      <th>GROSS SQUARE FEET</th>\n",
       "      <th>YEAR BUILT</th>\n",
       "      <th>TAX CLASS AT TIME OF SALE</th>\n",
       "      <th>SALE PRICE</th>\n",
       "      <th>SALE DATE</th>\n",
       "    </tr>\n",
       "  </thead>\n",
       "  <tbody>\n",
       "    <tr>\n",
       "      <th>0</th>\n",
       "      <td>Manhattan</td>\n",
       "      <td>ALPHABET CITY</td>\n",
       "      <td>07 RENTALS - WALKUP APARTMENTS</td>\n",
       "      <td>2A</td>\n",
       "      <td>5</td>\n",
       "      <td>0</td>\n",
       "      <td>5</td>\n",
       "      <td>1633.0</td>\n",
       "      <td>6440.0</td>\n",
       "      <td>1900</td>\n",
       "      <td>2</td>\n",
       "      <td>6625000.0</td>\n",
       "      <td>2017-07-19</td>\n",
       "    </tr>\n",
       "    <tr>\n",
       "      <th>1</th>\n",
       "      <td>Manhattan</td>\n",
       "      <td>ALPHABET CITY</td>\n",
       "      <td>07 RENTALS - WALKUP APARTMENTS</td>\n",
       "      <td>2</td>\n",
       "      <td>28</td>\n",
       "      <td>3</td>\n",
       "      <td>31</td>\n",
       "      <td>4616.0</td>\n",
       "      <td>18690.0</td>\n",
       "      <td>1900</td>\n",
       "      <td>2</td>\n",
       "      <td>480000.0</td>\n",
       "      <td>2016-12-14</td>\n",
       "    </tr>\n",
       "  </tbody>\n",
       "</table>\n",
       "</div>"
      ],
      "text/plain": [
       "     BOROUGH   NEIGHBORHOOD                      BUILDING CLASS CATEGORY  \\\n",
       "0  Manhattan  ALPHABET CITY  07 RENTALS - WALKUP APARTMENTS                \n",
       "1  Manhattan  ALPHABET CITY  07 RENTALS - WALKUP APARTMENTS                \n",
       "\n",
       "  TAX CLASS AT PRESENT  RESIDENTIAL UNITS  COMMERCIAL UNITS  TOTAL UNITS  \\\n",
       "0                   2A                  5                 0            5   \n",
       "1                    2                 28                 3           31   \n",
       "\n",
       "   LAND SQUARE FEET  GROSS SQUARE FEET  YEAR BUILT  TAX CLASS AT TIME OF SALE  \\\n",
       "0            1633.0             6440.0        1900                          2   \n",
       "1            4616.0            18690.0        1900                          2   \n",
       "\n",
       "   SALE PRICE  SALE DATE  \n",
       "0   6625000.0 2017-07-19  \n",
       "1    480000.0 2016-12-14  "
      ]
     },
     "execution_count": 49,
     "metadata": {},
     "output_type": "execute_result"
    }
   ],
   "source": [
    "df.head(2)"
   ]
  },
  {
   "cell_type": "code",
   "execution_count": 50,
   "metadata": {},
   "outputs": [
    {
     "data": {
      "text/plain": [
       "BOROUGH\n",
       "Brooklyn         23392\n",
       "Queens           16973\n",
       "Bronx             6854\n",
       "Staten Island     6807\n",
       "Manhattan         1638\n",
       "Name: count, dtype: int64"
      ]
     },
     "execution_count": 50,
     "metadata": {},
     "output_type": "execute_result"
    }
   ],
   "source": [
    "df['BOROUGH'].value_counts().head()"
   ]
  },
  {
   "cell_type": "code",
   "execution_count": 51,
   "metadata": {},
   "outputs": [],
   "source": [
    "brk = df[df[\"BOROUGH\"] == 'Brooklyn']\n",
    "que = df[df[\"BOROUGH\"] == 'Queens']"
   ]
  },
  {
   "cell_type": "code",
   "execution_count": 52,
   "metadata": {},
   "outputs": [
    {
     "data": {
      "text/plain": [
       "(23392, 2509.748204514364, 14993.212075477884)"
      ]
     },
     "execution_count": 52,
     "metadata": {},
     "output_type": "execute_result"
    }
   ],
   "source": [
    "n1 = len(brk)\n",
    "mean1 = brk['GROSS SQUARE FEET'].mean()\n",
    "std1 = brk['GROSS SQUARE FEET'].std()\n",
    "\n",
    "(n1, mean1, std1)"
   ]
  },
  {
   "cell_type": "code",
   "execution_count": 53,
   "metadata": {},
   "outputs": [
    {
     "data": {
      "text/plain": [
       "(16973, 3269.04165439227, 42559.82622506552)"
      ]
     },
     "execution_count": 53,
     "metadata": {},
     "output_type": "execute_result"
    }
   ],
   "source": [
    "n2 = len(que)\n",
    "mean2 = que['GROSS SQUARE FEET'].mean()\n",
    "std2 = que['GROSS SQUARE FEET'].std()\n",
    "\n",
    "(n2, mean2, std2)"
   ]
  },
  {
   "cell_type": "code",
   "execution_count": 54,
   "metadata": {},
   "outputs": [],
   "source": [
    "import statsmodels.api as sm"
   ]
  },
  {
   "cell_type": "code",
   "execution_count": 55,
   "metadata": {},
   "outputs": [
    {
     "data": {
      "text/plain": [
       "(-2.521500673223188, 0.011685545186674149)"
      ]
     },
     "execution_count": 55,
     "metadata": {},
     "output_type": "execute_result"
    }
   ],
   "source": [
    "sm.stats.ztest(brk['GROSS SQUARE FEET'].dropna(), que['GROSS SQUARE FEET'].dropna(),alternative='two-sided')"
   ]
  },
  {
   "cell_type": "markdown",
   "metadata": {},
   "source": [
    "**Kesimpulan**\n",
    "\n",
    "Pertimbangkan significance level alpha adalah 5% atau 0.05. Sehingga berdasarkan perhitungan tersebut, karena p-value (0.011685545186674149) kurang dari alpha $ (p_{value} < \\alpha) $, kita dapat reject the Null hypothesis bahwa rata-rata gross square feet di Brooklyn = rata-rata gross square feet di Queens. <br>\n",
    "\n",
    "Catatan : kita menggunakan alternative = \"two-sided\" dalam z-test karena di sini kita memeriksa ketidaksamaan."
   ]
  },
  {
   "cell_type": "markdown",
   "metadata": {},
   "source": [
    "# **F. KESIMPULAN KESELURUHAN**\n",
    "-----"
   ]
  },
  {
   "cell_type": "markdown",
   "metadata": {},
   "source": [
    "## 1. **Measure of Central Tendency** (Mean, Median, Modus)\n",
    "- Kota Manhattan memiliki rata-rata tertinggi pada sale price.\n",
    "- Kota Manhattan memiliki rata-rata tertinggi di antara wilayah lainnya pada Residential Units, Commercial Units, Total Units, Land Square Feet, Gross Square Feet, Sale Price\n",
    "- Bronx memiliki median sale price terendah, Manhattan memiliki median tertinggi.\n",
    "- Semua kota di New York sebagain besar memiliki total 1 unit\n",
    "----\n",
    "\n",
    "## 2. **Measure of Central Spread** (range, standard deviasi, variansi) \n",
    "- Nilai max SALE PRICE dengan min Sale Price setiap wilayah mempunyai jangkauan yang tidak jauh berbeda\n",
    "- Standar deviation dari kolom `RESIDENTIAL UNITS`, `COMMERCIAL UNITS`, `TOTAL UNITS`, `LAND SQUARE FEET`, `GROSS SQUARE FEET`, `SALE PRICE` memiliki nilai standar deviasi  yang tidak terlalu tinggi, artinya data tidak memiliki sebaran yang besar\n",
    "- Varians dari kolom `RESIDENTIAL UNITS`, `COMMERCIAL UNITS`, `TOTAL UNITS`, `LAND SQUARE FEET`, `GROSS SQUARE FEET`, `SALE PRICE` memiliki nilai varians  yang tidak terlalu tinggi, artinya data tidak memiliki sebaran yang besar\n",
    "------\n",
    "\n",
    "## 3. **Probability Distribution** (Uniform Distribution, Normal Distribution, Gamma Distribution, Eksponensial Distribution, Poisson Distribution) pada kolom SALE PRICE\n",
    "\n",
    "- **Uniform Distribution** <br>\n",
    "    uniform.rvs(size=55664, loc = 1067301, scale=12471300) <br>\n",
    "    Memiliki grafik seperti gambar diatas. <br>\n",
    "    \n",
    "    \n",
    "- **Normal Distribution** <br>\n",
    "    norm.rvs(size=55664, loc = 1067301, scale=12471300) <br>\n",
    "    Memiliki grafik seperti gambar diatas.<br>\n",
    " \n",
    " \n",
    "- **Gamma Distribution** <br> \n",
    "    gamma.rvs(size=55664,a=5) <br>\n",
    "    Memiliki grafik seperti gambar diatas<br>\n",
    "\n",
    "\n",
    "- **Eksponensial Distribution** <br>\n",
    "    expon.rvs(size = 55664, loc = 1067301, scale = 12471300) <br>\n",
    "    Memiliki grafik seperti gambar diatas.<br>\n",
    " \n",
    " \n",
    "- **Poisson Distribution** <br>\n",
    "    poisson.rvs(size=55664,mu=450) <br>\n",
    "    Memiliki grafik seperti gambar diatas.\n",
    "-----\n",
    "\n",
    "##  4. **Binomial dan Bernoulli** Distribution pada kolom building class category : TWO FAMILY DWELLINGS \n",
    "\n",
    "- **Binomial Distribution**\n",
    "\n",
    "|Nilai n|Nilai x|Nilai P|Nilai Q|\n",
    "|:------|:------|:------|:------|\n",
    "|15588|55664|0.28003736705949983|0.7199626329405002|\n",
    "    \n",
    "Ket : <br>\n",
    "n : total BUILDING CLASS CATEGORY (TWO FAMILY DWELLINGS) <br>\n",
    "y : total data keseluruhan <br>\n",
    "\n",
    "- **Bernoulli Distribution**\n",
    "\n",
    "|Nilai n|Nilai x|Nilai P|Nilai Q|\n",
    "|:------|:------|:------|:------|\n",
    "|15588|55664|0.28003736705949983|0.7199626329405002|\n",
    "    \n",
    "Ket : <br>\n",
    "n : total BUILDING CLASS CATEGORY (TWO FAMILY DWELLINGS) <br>\n",
    "y : total data keseluruhan\n",
    "\n",
    "------\n",
    "\n",
    "## 5. **Confidence Interval**\n",
    "### Confidence interval for mean berdasarkan data wilayah Manhattan dan Sale Price.\n",
    "\n",
    "Kesimpulan<br>\n",
    "Berdasarkan perhitungan diatas, diperoleh hasil sebagai berikut. <br>\n",
    "Confidence interval for mean = $\\mu \\pm (z_{score} * se)$ \n",
    "- $\\mu - (z_{score} * se) = 8141536.983 \\approx 8141537$\n",
    "- $\\mu + (z_{score} * se) = 14866663.016 \\approx 14866663$\n",
    "-------\n",
    "\n",
    "## 6. Hypothesis Testing\n",
    "Hypothesis Testing (Difference in Population Means):\n",
    "#### **Apakah rata-rata Gross Square Feet di Queens lebih tinggi secara signifikan daripada rata-rata Gross Square di Brooklyn?**\n",
    "\n",
    "Diketahui : <br>\n",
    "$μ_1$ : Rata-rata commercial units di Manhattan <br>\n",
    "$μ_2$ : Rata-rata commercial units di Staten Island <br>\n",
    "\n",
    "\n",
    "Null Hypothesis $(H_0)$ : $μ_1=μ_2$ <br>\n",
    "Alternative Hypothesis $(H_1)$ : $μ_1≠μ_2$ <br>\n",
    "\n",
    "**Kesimpulan**<br>\n",
    "Pertimbangkan significance level alpha adalah 5% atau 0.05. Sehingga berdasarkan perhitungan tersebut, karena p-value (0.011685545186674149) kurang dari alpha $ (p_{value} < \\alpha) $, kita dapat reject the Null hypothesis bahwa rata-rata gross square feet di Brooklyn = rata-rata gross square feet di Queens. <br>\n",
    "\n",
    "Catatan : kita menggunakan alternative = \"two-sided\" dalam z-test karena di sini kita memeriksa ketidaksamaan."
   ]
  }
 ],
 "metadata": {
  "kernelspec": {
   "display_name": "Python 3",
   "language": "python",
   "name": "python3"
  },
  "language_info": {
   "codemirror_mode": {
    "name": "ipython",
    "version": 3
   },
   "file_extension": ".py",
   "mimetype": "text/x-python",
   "name": "python",
   "nbconvert_exporter": "python",
   "pygments_lexer": "ipython3",
   "version": "3.11.5"
  }
 },
 "nbformat": 4,
 "nbformat_minor": 2
}
